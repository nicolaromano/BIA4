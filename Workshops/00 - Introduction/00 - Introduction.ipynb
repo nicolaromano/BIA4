{
 "metadata": {
  "language_info": {
   "codemirror_mode": {
    "name": "ipython",
    "version": 3
   },
   "file_extension": ".py",
   "mimetype": "text/x-python",
   "name": "python",
   "nbconvert_exporter": "python",
   "pygments_lexer": "ipython3",
   "version": 3
  },
  "orig_nbformat": 4
 },
 "nbformat": 4,
 "nbformat_minor": 2,
 "cells": [
  {
   "source": [
    "# BIA4 - Python workshops\n",
    "\n",
    "_Author: Nicola Romanò - [nicola.romano@ed.ac.uk](mailto:nicola.romano@ed.ac.uk)_\n",
    "\n",
    "During the course of the semester you will have the opportunity to practice what you have learnt in the lectures during some self-guided workshops, which will be in the form of Jupyter notebooks.\n",
    "\n",
    "When working your way through the workshops you will find some questions/exercises. If you are stuck somewhere, or you want to discuss a clever solution with the other students, please ask on the Slack channel!\n",
    "\n",
    "Sometimes I may ask you to complete some code. Parts of the code that need completing will either be marked with `___` or specified in comments. \n",
    "\n",
    "For example, I may prompt you to complete the following code to print your name"
   ],
   "cell_type": "markdown",
   "metadata": {}
  },
  {
   "cell_type": "code",
   "execution_count": null,
   "metadata": {},
   "outputs": [],
   "source": [
    "print(___)"
   ]
  },
  {
   "source": [
    "or I may use a comment to prompt you to do something"
   ],
   "cell_type": "markdown",
   "metadata": {}
  },
  {
   "cell_type": "code",
   "execution_count": null,
   "metadata": {},
   "outputs": [],
   "source": [
    "from cool_library import cool_function\n",
    "\n",
    "# Do something cool here!"
   ]
  },
  {
   "source": [
    "Sometimes I may give you some hints towards how to solve a particular problem, try it below!\n",
    "\n",
    "<details>\n",
    "    <summary style=\"cursor: pointer;\">Click here to reveal a hint.</summary>\n",
    "    Well done! You discovered a hint!\n",
    "</details>"
   ],
   "cell_type": "markdown",
   "metadata": {}
  },
  {
   "source": [
    "For any comments, questions or suggestions, feel free to [drop me an email](mailto:nicola.romano@ed.ac.uk)!"
   ],
   "cell_type": "markdown",
   "metadata": {}
  },
  {
   "cell_type": "code",
   "execution_count": null,
   "metadata": {},
   "outputs": [],
   "source": []
  }
 ]
}