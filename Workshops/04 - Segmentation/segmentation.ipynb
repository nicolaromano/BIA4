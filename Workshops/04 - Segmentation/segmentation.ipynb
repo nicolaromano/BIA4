{
 "cells": [
  {
   "cell_type": "markdown",
   "metadata": {},
   "source": [
    "# Introduction\n",
    "\n",
    "Segmentation is the process of dividing a digital image into subsets of pixels with specific features. This can be used, for instance, to determine where specific objects are in an image, and determine their properties.\n",
    "\n",
    "In this workshop you will use different strategies to segment biological images.\n",
    "\n",
    "Refer to Lecture 7 for a more extended discussion."
   ]
  },
  {
   "cell_type": "markdown",
   "metadata": {},
   "source": [
    "## Semantic segmentation\n",
    "\n",
    "We start with the problem of **semantic segmentation**. Given an image of cells, we want to determine which pixels are from cells and which are from background.\n",
    "\n",
    "## Learning objectives\n",
    "\n",
    "At the end of this workshop you will be able to:\n",
    "\n",
    "- Use different thresholding strategies to perform semantic segmentation of images\n",
    "- Perform instance segmentation of simple images"
   ]
  },
  {
   "cell_type": "markdown",
   "metadata": {},
   "source": [
    "Complete the cell below to load and display the `cell_segm.tif` image"
   ]
  },
  {
   "cell_type": "code",
   "execution_count": 2,
   "metadata": {},
   "outputs": [],
   "source": [
    "# Import necessary libraries\n",
    "\n",
    "# Your code goes here"
   ]
  },
  {
   "cell_type": "code",
   "execution_count": null,
   "metadata": {},
   "outputs": [],
   "source": [
    "# Read the image\n",
    "cells = _____\n",
    "\n",
    "# Print its shape\n",
    "print(_____)\n",
    "\n",
    "# Display the image\n",
    "_____"
   ]
  },
  {
   "cell_type": "markdown",
   "metadata": {},
   "source": [
    "The image (source GerryShaw, [Wikimedia](https://commons.wikimedia.org/wiki/File:38F3-ChkNFH-DAPI-Shsy5y.jpg)) shows human SH-SY5Y cells.\n",
    "Channel 0 contains staining of the cells cytoskeleton, channel 1 staining for a nucleolar protein, and channel 2 shows DNA (nuclear) staining.\n",
    "\n",
    "We would like to determine which pixels correspond to nuclei. We would like to end up with a matrix of the same size as the original image, where each element is 1 if the pixel is in a nucleus, and 0 if it is elsewhere (cytoplasm or background)\n",
    "\n",
    "Let's start by isolating the channel with the nuclear staining; you can use `imshow` to ensure you got the correct one!"
   ]
  },
  {
   "cell_type": "code",
   "execution_count": null,
   "metadata": {},
   "outputs": [],
   "source": [
    "nuclei = _____\n",
    "\n",
    "# Show the image using a gray colourmap\n",
    "_____"
   ]
  },
  {
   "cell_type": "markdown",
   "metadata": {},
   "source": [
    "Let's start by plotting the image histogram to get an idea of the distribution of staining.\n",
    "We would expect two peaks: one corresponding to background and one corresponding to nuclear staining"
   ]
  },
  {
   "cell_type": "code",
   "execution_count": null,
   "metadata": {},
   "outputs": [],
   "source": [
    "# Show histogram\n",
    "_____"
   ]
  },
  {
   "cell_type": "markdown",
   "metadata": {},
   "source": [
    "The histogram tells us a lot! We can clearly distinguish background from nuclei, but rather than having a single background peak we get multiple ones.\n",
    "\n",
    "**Can you explain why?**"
   ]
  },
  {
   "cell_type": "markdown",
   "metadata": {},
   "source": [
    "We can now try to manually choose a threshold to separate nuclei from background.\n",
    "\n",
    "**Use the histogram to try and find the value that best separates background from nuclei.**\n",
    "\n",
    "You can try a few values and get a feeling for the one that visually gives the same result."
   ]
  },
  {
   "cell_type": "code",
   "execution_count": null,
   "metadata": {},
   "outputs": [],
   "source": [
    "nuclei_threshold_manual = nuclei > _____\n",
    "\n",
    "# Create a two panel figure with the original image on the left \n",
    "# and the thresholded version on the right \n",
    "_____"
   ]
  },
  {
   "cell_type": "markdown",
   "metadata": {},
   "source": [
    "Let's say you now want to determine what percentage of the image is occupied by cell nuclei?\n",
    "\n",
    "**How would you do that?**\n",
    "\n",
    "<details>\n",
    "    <summary style=\"cursor: pointer;\">Click here to reveal a hint.</summary>\n",
    "    You can use the Numpy function `unique` with the `return_counts` parameter set to `True`. \n",
    "    \n",
    "    What does this function return? How can it help in answering the question above?\n",
    "</details>"
   ]
  },
  {
   "cell_type": "code",
   "execution_count": null,
   "metadata": {},
   "outputs": [],
   "source": [
    "# Your code here\n",
    "print(f\"Percentage of image covered by nuclei is {_____}%\")"
   ]
  },
  {
   "cell_type": "markdown",
   "metadata": {},
   "source": [
    "As we saw in the lecture, there are better, more automatable, ways to determine an optimal threshold.\n",
    "\n",
    "Scikit Image provides several methods, which are imported below. \n",
    "\n",
    "- Apply the different methods to the image\n",
    "- Note that you have to specify the `block_size` parameter for `threshold_local` (and it MUST be an odd number). What happens if the block size is too small?\n",
    "- Visually compare the results of the various methods, including the manual thresholding\n",
    "- Calculate the percentage of pixels containing nuclei in the image in the various cases\n",
    "- Is there anything that stand out? How good was your manual threshold compared to the automatic methods?\n"
   ]
  },
  {
   "cell_type": "code",
   "execution_count": null,
   "metadata": {},
   "outputs": [],
   "source": [
    "# Import functions from skimage\n",
    "\n",
    "\n",
    "nuclei_threshold_otsu = _____\n",
    "nuclei_threshold_li = _____\n",
    "nuclei_threshold_local = _____ # Remember to specify block_size!\n",
    "\n",
    "# Now show the images\n",
    "# Create a figure with 4 plots showing the original image and the \n",
    "# three thresholded versions you just created\n",
    "_____\n",
    "\n",
    "# Print the % of image covered by nuclei in each thresholded image\n",
    "# It might be useful to create a function to calculate this\n",
    "_____"
   ]
  },
  {
   "cell_type": "markdown",
   "metadata": {},
   "source": [
    "Remember that you can use morphological operations, including opening and closing, removing small objects or filling small holes to remove noise in your masks. Give it a try!"
   ]
  },
  {
   "cell_type": "code",
   "execution_count": 3,
   "metadata": {},
   "outputs": [],
   "source": [
    "# Apply morphological operations to remove \n",
    "# small objects and small holes from the thresholded images\n",
    "# Plot the images and recalculate the % of image covered by nuclei\n",
    "# Notice how the specific pipeline you use will affect the results"
   ]
  },
  {
   "cell_type": "markdown",
   "metadata": {},
   "source": [
    "## Instance segmentation\n",
    "\n",
    "Instance segmentation is definitely a harder problem to solve.\n",
    "For each pixel, not only we want to define whether it is in a nucleus, but also which nucleus it is in!\n",
    "\n",
    "This will allow us to make cell-level measurements, a very useful tool for analysis of biological images! \n",
    "\n",
    "We are going to cover one of the _traditional_ methods, a technique called *watershed* (refer to the lecture on segmentation for more details!). There are more sophisticated methods for instance segmentation, we will see some of them later on in the course!\n",
    "\n",
    "The main idea of watershed is to first create a binary mask of our image, as we did above, then identify the center of each cell and use that as a _seed_ to divide the mask into instances.\n",
    "\n",
    "Let’s see how to do it with Scikit Image!\n",
    "\n",
    "Use the [distance_transform_edt](https://docs.scipy.org/doc/scipy/reference/generated/scipy.ndimage.distance_transform_edt.html) function to find the distance of each pixel of the image mask from the background. Visualize the result to better understand what is going on! You can use whichever mask gave you the best results in the previous part."
   ]
  },
  {
   "cell_type": "code",
   "execution_count": null,
   "metadata": {},
   "outputs": [],
   "source": [
    "# Calculate the distance transform and display it"
   ]
  },
  {
   "cell_type": "markdown",
   "metadata": {},
   "source": [
    "You can see how the center of (almost all) cells is brighter. \n",
    "\n",
    "We will now proceed to the watershed, by using three functions.\n",
    "\n",
    "- [peak_local_max](https://scikit-image.org/docs/dev/api/skimage.feature.html#skimage.feature.peak_local_max) to retrieve the local maxima corresponding to the centers of each cell in our distance function.\n",
    "- [label](https://scikit-image.org/docs/dev/api/skimage.measure.html#skimage.measure.label), to label connected regions with the same values.\n",
    "- [watershed](https://scikit-image.org/docs/dev/api/skimage.segmentation.html#skimage.segmentation.watershed), to perform watershed segmentation and divide touching nuclei.\n",
    "\n",
    "I have completed most of the code below, but I encourage you to print/plot the various variables, and read the documentation linked above, to better understand what is going on! "
   ]
  },
  {
   "cell_type": "code",
   "execution_count": null,
   "metadata": {},
   "outputs": [],
   "source": [
    "from skimage.feature import peak_local_max\n",
    "from skimage.measure import label\n",
    "from skimage.segmentation import watershed\n",
    "\n",
    "# Find the local maxima of the distance map.\n",
    "# We need to impose a minimum distance between the peaks and we can specify \n",
    "# a \"footprint\" to search for local maxima. You can experiment with these value to find\n",
    "# one that works best with your image\n",
    "\n",
    "# Refer to the lecture for how to find the local maxima\n",
    "local_maxima_idx = ___\n",
    "\n",
    "# Label connected regions, then split touching nuclei using watershed\n",
    "\n",
    "# Your code here"
   ]
  },
  {
   "cell_type": "markdown",
   "metadata": {},
   "source": [
    "The segmented image will have each pixel marked with an integer (1,2,3,...) corresponding to the nucleus it belongs to. If you show it using a \"normal\" colourmap it may be difficult to distinguish between closeby nuclei. We will create a random colourmap to avoid this problem."
   ]
  },
  {
   "cell_type": "code",
   "execution_count": null,
   "metadata": {},
   "outputs": [],
   "source": [
    "# Use label2rgb to help visualize the results\n",
    "# then plot the results"
   ]
  },
  {
   "cell_type": "markdown",
   "metadata": {},
   "source": [
    "There are a few things you may want to try to improve segmentation\n",
    "\n",
    "- Try different parameters for `peak_local_max`\n",
    "- Some initial filtering or denoising may help in some cases\n",
    "- Small objects in the segmentation can still be removed using morphological operations! \n"
   ]
  },
  {
   "cell_type": "markdown",
   "metadata": {},
   "source": [
    "## Challenge!\n",
    "\n",
    "Create a Python program that, given an image similar to the one used in this workshop, segments it and plots the distribution of the area of the nuclei.\n",
    "\n",
    "You should be able to call it as something like\n",
    "\n",
    "`python segmentation.py -input image.tif`\n",
    "\n",
    "Try adding other parameters, such as initial filtering, type of threshold etc.\n",
    "\n",
    "For example `python segmentation.py -input image.tif -filter median -threshold local -output segmented.tif`"
   ]
  }
 ],
 "metadata": {
  "kernelspec": {
   "display_name": "Python 3.10.6 ('workshops_env': venv)",
   "language": "python",
   "name": "python3"
  },
  "language_info": {
   "codemirror_mode": {
    "name": "ipython",
    "version": 3
   },
   "file_extension": ".py",
   "mimetype": "text/x-python",
   "name": "python",
   "nbconvert_exporter": "python",
   "pygments_lexer": "ipython3",
   "version": "3.10.6"
  },
  "orig_nbformat": 2,
  "vscode": {
   "interpreter": {
    "hash": "ab7d69a5608867b8a0d84804868560ce8d8f85bb8eaf23cf6f0d8cd6c7ca7767"
   }
  }
 },
 "nbformat": 4,
 "nbformat_minor": 2
}
