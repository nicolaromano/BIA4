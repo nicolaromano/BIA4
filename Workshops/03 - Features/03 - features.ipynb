{
 "cells": [
  {
   "cell_type": "markdown",
   "metadata": {},
   "source": [
    "# Workshop 3: Features\n",
    "\n",
    "In Lecture 6 we talked about feature extraction. In this workshop we will put in practice some of the methods we have learned in the lecture.\n",
    "\n",
    "## Learning objectives\n",
    "\n",
    "At the end of this workshop you will be able to:\n",
    "\n",
    "- Extract blob-like features from images and compare different algorithms\n",
    "- Use the Hough transform to detect lines and circles in images"
   ]
  },
  {
   "cell_type": "markdown",
   "metadata": {},
   "source": [
    "## Blob detection\n",
    "\n",
    "Let's start by looking at blob detection. We will use the [`skimage.feature.blob_log`](http://scikit-image.org/docs/dev/api/skimage.feature.html#skimage.feature.blob_log) function to detect blobs in an image. As we saw in the lecture, this function uses the Laplacian of Gaussian (LoG) to detect blobs.\n",
    "\n",
    "Let's start by opening and displaying the `retina.jpg` image [Credits: [Librepath - Own work, CC BY-SA 3.0](https://commons.wikimedia.org/w/index.php?curid=45308378)]. This is an haematoxylin and eosin (H&E) stained image of a retina. Haematoxylin stains nuclei in a dark purple colour; eosin stains the extracellular matrix and the cytoplasm in pink."
   ]
  },
  {
   "cell_type": "code",
   "execution_count": 1,
   "metadata": {},
   "outputs": [],
   "source": [
    "# Read the image and plot it\n",
    "# Your code here"
   ]
  },
  {
   "cell_type": "markdown",
   "metadata": {},
   "source": [
    "We are now interested in counting how many nuclei are in this image. Since nuclei look like dark, uniform blobs on a light background, we can use the LoG to detect blobs.\n",
    "\n",
    "First of all, however, we need to do some preprocessing.\n",
    "The `blob_log` function works on both 2D and 3D images. This is a RGB image, and we need to convert it to a grayscale image, otherwise `blob_log` will think we are passing a 3D image and will give us some strange results.\n",
    "\n",
    "Furthermore, the function expects bright spots on a dark background, so we need to invert the image.\n",
    "\n",
    "So let's do that!\n",
    "\n",
    "1. Convert the image to grayscale\n",
    "2. Invert the image\n",
    "3. Display the images to check everything is working as expected!"
   ]
  },
  {
   "cell_type": "code",
   "execution_count": 2,
   "metadata": {},
   "outputs": [],
   "source": [
    "# You can either use rgb2gray or pick a color channel. \n",
    "# It might be useful to look at individual channels and see if\n",
    "# nuclei are more evident in a specific one\n",
    "# Your code here"
   ]
  },
  {
   "cell_type": "markdown",
   "metadata": {},
   "source": [
    "Now we can finally apply the `blob_log` function to the inverted image.\n",
    "\n",
    "Remember that the `blob_log` function takes the following arguments:\n",
    "    \n",
    "- `image`: The image to detect blobs in\n",
    "- `min_sigma`: The minimum standard deviation for the LoG filter\n",
    "- `max_sigma`: The maximum standard deviation for the LoG filter\n",
    "- `num_sigma`: The number of standard deviations to consider\n",
    "- `threshold`: The absolute lower bound for maxima to be considered as blobs\n",
    "\n",
    "How do we chose these parameters? You can start with some reasonable values and experiment with them. For example, try and manually check the radius of a nucleus, and use values of $\\sigma$ that are in that order of magnitude. Remember that the radius of the blob is $\\sqrt{2}\\sigma$ so if you use $\\sigma=10$ you will detect blobs of radius ~14.\n",
    "\n",
    "_Note_: you might want to keep down the `num_sigma` parameter (say 5 or 10), at least while tuning the rest, as it will take a long time to run otherwise.\n",
    "\n",
    "We need to check the output of the `blob_log` function. We could print it out, but that would be hard to interpret. Instead, we will plot circles over the image to show the detected blobs."
   ]
  },
  {
   "cell_type": "markdown",
   "metadata": {},
   "source": [
    "Let's start by estimating the size of a nucleus"
   ]
  },
  {
   "cell_type": "code",
   "execution_count": 3,
   "metadata": {},
   "outputs": [],
   "source": [
    "from math import sqrt\n",
    "# Estimate the size of a nucleus\n",
    "# Let's show a crop of the image to zoom in on the nuclei and visually estimate their size\n",
    "\n",
    "# plt.imshow(___)\n",
    "\n",
    "# Determine the average nucleus radius (by eye)\n",
    "# Since radius = sqrt(2) * sigma, sigma = radius / sqrt(2)\n",
    "# print(___ / sqrt(2))"
   ]
  },
  {
   "cell_type": "markdown",
   "metadata": {},
   "source": [
    "Now let's apply the `blob_log` function to the image."
   ]
  },
  {
   "cell_type": "code",
   "execution_count": null,
   "metadata": {},
   "outputs": [],
   "source": [
    "from skimage.feature import blob_log\n",
    "\n",
    "# Remember to use the inverted image!\n",
    "# blobs = blob_log(____)\n",
    "\n",
    "# Display the image in colour on the left and black and white on the right\n",
    "# your code here\n",
    "\n",
    "# Overlay the blobs on the b/w image. The centers of the blobs are returned in\n",
    "# (y, x) order. The third dimension of the blobs array is sigma\n",
    "\n",
    "for b in blobs:\n",
    "    y, x, r = b\n",
    "    c = plt.Circle((x, y), r, color=\"red\", linewidth=1, fill=False)\n",
    "    ax[1].add_patch(c)\n",
    "\n",
    "for a in ax:\n",
    "    a.axis(\"off\")\n",
    "\n",
    "plt.tight_layout()\n"
   ]
  },
  {
   "cell_type": "markdown",
   "metadata": {},
   "source": [
    "That is not too bad! \n",
    "**What are the parts where this approach does not work well? Why do you think this is the case?**\n",
    "\n",
    "You can try optimising the results by manipulating the input image, e.g. by changing the way you convert it to grayscale, or by manipulating its histogram.\n",
    "Obviously, also changing the parameters of the `blob_log` function can help improve the results!\n",
    "\n",
    "Finally, try comparing the `blob_log`, `blob_dog` and `blob_doh` functions. **Which works best?**\n",
    "\n",
    "**How did it go for you? Post your results on Slack!**\n",
    "\n",
    "**Can you think of a way to quantitatively evaluate how good different solutions are?**"
   ]
  },
  {
   "cell_type": "markdown",
   "metadata": {},
   "source": [
    "### Saving results to file\n",
    "\n",
    "Now it'is probably a good time to save our results to file, so that we can use the data further down the line.\n",
    "\n",
    "Although we could use Python base I/O functions to read/write files (see the [Python documentation](https://docs.python.org/3/tutorial/inputoutput.html#reading-and-writing-files) on how to do that), when dealing with tabular data, the `pandas` library is super helpful!\n",
    "\n",
    "If you have not already, you should install `pandas` (e.g. through `pip install pandas`). There are some super-useful tutorials on how to use `pandas` [on their website](https://pandas.pydata.org/docs/getting_started/intro_tutorials/index.html), but essentially for this workshop we will be:\n",
    "\n",
    "- Importing `pandas` (commonly imported as `pd`)\n",
    "- Converting our results in a `DataFrame` class\n",
    "- Using the `to_csv` method to save to a CSV file."
   ]
  },
  {
   "cell_type": "code",
   "execution_count": null,
   "metadata": {},
   "outputs": [],
   "source": [
    "import pandas as pd\n",
    "\n",
    "# We convert the results from blob_log to a pandas DataFrame\n",
    "# We can specify column names to make things prettier :)\n",
    "blobs_df = pd.DataFrame(data = blobs, columns=[\"Center_Y\", \"Center_X\", \"Sigma\"])\n",
    "\n",
    "# Let's see what we have\n",
    "print(blobs_df)\n",
    "\n",
    "# Now, save to file. We can use index=False to avoid printing the index (the row number)\n",
    "blobs_df.to_csv(\"blobs.csv\", index = False)"
   ]
  },
  {
   "cell_type": "markdown",
   "metadata": {},
   "source": [
    "Et voilà, you now have a CSV output of your analysis! You could read this file for further analysis, for example you could calculate the density of nuclei depending on the layer of the retina where you are in, or look at the average distance between nuclei, or whether there is a relationship between radius and position etc!"
   ]
  },
  {
   "cell_type": "markdown",
   "metadata": {},
   "source": [
    "## Counting cells\n",
    "\n",
    "In this exercise we are now going to create a few functions to estimate cell density given a photo of a haemocytometer, just like we saw in the lecture. If you want to know more about how an haemocytometer works please see the [Wikipedia page](https://en.wikipedia.org/wiki/Hemocytometer)."
   ]
  },
  {
   "cell_type": "code",
   "execution_count": null,
   "metadata": {},
   "outputs": [],
   "source": [
    "# Import required libraries\n",
    "# Your code here\n",
    "\n",
    "# Read the yeast_count.jpg file\n",
    "img = ____\n",
    "# Convert to grayscale\n",
    "img = ____\n",
    "# Unsharp mask the image to remove noise\n",
    "img = ___\n",
    "# Detect edges using Canny\n",
    "img_canny = ___\n",
    "\n",
    "# Use the linear Hough transform to detect the lines in the image\n",
    "# See the lecture for how to do this using hough_line and hough_line_peaks!\n",
    "\n",
    "# Your code here\n",
    "\n",
    "# Uses the circular Hough transform to detect cells in the image\n",
    "# Cells are pretty small, we can try radii of 3-5 pixels\n",
    "\n",
    "radii = range(3, 5)\n",
    "# Look at the help of hough_circle and hough_circle_peaks functions to see what parameters are needed!\n",
    "cells = hough_circle(_____) \n",
    "circle_accum, cx, cy, radii = hough_circle_peaks(_____)\n",
    "\n",
    "# Now show the image with the lines and circles overlayed\n",
    "\n",
    "# Show the image\n",
    "# Your code here\n",
    "\n",
    "# Draw lines\n",
    "\n",
    "for angle, dist in zip(theta, rho):\n",
    "    (x0, y0) = dist * np.array([np.cos(angle), np.sin(angle)])\n",
    "    plt.axline((x0, y0), slope=np.tan(angle + np.pi/2), linewidth=3, color='orange')\n",
    "\n",
    "# Draw circles\n",
    "for c_x, c_y, r in zip(cx, cy, radii):\n",
    "    c = plt.Circle((c_x, c_y), r, color='purple', linewidth=1, fill=False)\n",
    "    plt.add_artist(c)\n",
    "\n",
    "plt.show()"
   ]
  },
  {
   "cell_type": "markdown",
   "metadata": {},
   "source": [
    "**How many cells were detected?**"
   ]
  },
  {
   "cell_type": "code",
   "execution_count": null,
   "metadata": {},
   "outputs": [],
   "source": [
    "# Count cells. We just look at how many circles we've got!\n",
    "# Your code here"
   ]
  },
  {
   "cell_type": "markdown",
   "metadata": {},
   "source": [
    "**Is there any issue with counting cells this way?**"
   ]
  },
  {
   "cell_type": "markdown",
   "metadata": {},
   "source": [
    "**Bonus exercises**: \n",
    "1. Can you come up with a way of quantifying the number of cells in the central \"macro-square\" (the one with 16 smaller squares in it that is defined by the larger lines)?\n",
    "2. Can you tidy up the code and convert it into a class?"
   ]
  },
  {
   "cell_type": "markdown",
   "metadata": {},
   "source": [
    "Well done! You got to the end of this wokshop!\n",
    "\n",
    "Feature extraction is a very important part of image analysis, I hope you enjoyed playing with it!"
   ]
  }
 ],
 "metadata": {
  "interpreter": {
   "hash": "af6b460c36dc28ebfac4d0bba8d4a91774bd4ef791c3ae938522999fae061eb7"
  },
  "kernelspec": {
   "display_name": "Python 3.7.12 64-bit ('bia4_env': venv)",
   "name": "python3"
  },
  "language_info": {
   "codemirror_mode": {
    "name": "ipython",
    "version": 3
   },
   "file_extension": ".py",
   "mimetype": "text/x-python",
   "name": "python",
   "nbconvert_exporter": "python",
   "pygments_lexer": "ipython3",
   "version": "3.7.12"
  },
  "orig_nbformat": 2
 },
 "nbformat": 4,
 "nbformat_minor": 2
}
