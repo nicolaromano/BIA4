{
 "metadata": {
  "language_info": {
   "codemirror_mode": {
    "name": "ipython",
    "version": 3
   },
   "file_extension": ".py",
   "mimetype": "text/x-python",
   "name": "python",
   "nbconvert_exporter": "python",
   "pygments_lexer": "ipython3",
   "version": 3
  },
  "orig_nbformat": 4
 },
 "nbformat": 4,
 "nbformat_minor": 2,
 "cells": [
  {
   "cell_type": "markdown",
   "source": [
    "# BIA4 - Test notebook\n",
    "\n",
    "_Author: Nicola Romanò - [nicola.romano@ed.ac.uk](mailto:nicola.romano@ed.ac.uk)_"
   ],
   "metadata": {}
  },
  {
   "cell_type": "markdown",
   "source": [
    "If you are reading this, hopefully you have successfully installed Jupyter Notebook.\n",
    "\n",
    "This is a simple markdown cell; you can double-click it to edit it."
   ],
   "metadata": {}
  },
  {
   "cell_type": "markdown",
   "source": [
    "You can also run Python code in a cell \n",
    "\n",
    "For example, try to complete the following code to print your name. Double click on the cell below to edit it, update the Python code, and then run it using the **Run** button on the left of the cell or by pressing **Shift+Enter**."
   ],
   "metadata": {}
  },
  {
   "cell_type": "code",
   "execution_count": null,
   "source": [
    "print(___)"
   ],
   "outputs": [],
   "metadata": {}
  },
  {
   "cell_type": "markdown",
   "source": [
    "Sometimes I may give you some hints towards how to solve a particular problem, try it below!\n",
    "\n",
    "<details>\n",
    "    <summary style=\"cursor: pointer;\">Click here to reveal a hint.</summary>\n",
    "    Well done! You discovered a hint!\n",
    "</details>"
   ],
   "metadata": {}
  },
  {
   "cell_type": "markdown",
   "source": [
    "That's it! You successfully managed to run a Jupyter notebook, wasn't that easy?"
   ],
   "metadata": {}
  }
 ]
}