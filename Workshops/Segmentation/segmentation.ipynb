{
 "metadata": {
  "language_info": {
   "codemirror_mode": {
    "name": "ipython",
    "version": 3
   },
   "file_extension": ".py",
   "mimetype": "text/x-python",
   "name": "python",
   "nbconvert_exporter": "python",
   "pygments_lexer": "ipython3",
   "version": "3.7.10-final"
  },
  "orig_nbformat": 2,
  "kernelspec": {
   "name": "python3",
   "display_name": "Python 3",
   "language": "python"
  }
 },
 "nbformat": 4,
 "nbformat_minor": 2,
 "cells": [
  {
   "source": [
    "# Introduction\n",
    "\n",
    "Segmentation is the process of dividing a digital image into subsets of pixels with specific features. This can be used, for instance, to determine where specific objects are in an image, and determine their properties.\n",
    "\n",
    "In this workshop you will use different strategies to segment biological images."
   ],
   "cell_type": "markdown",
   "metadata": {}
  },
  {
   "source": [
    "## Semantic segmentation\n",
    "\n",
    "We start with the problem of **semantic segmentation**. Given an image of cells, we want to determine which pixels are from cells and which are from background.\n",
    "\n",
    "Complete the cell below to load and display the `cell_segm.tif` image"
   ],
   "cell_type": "markdown",
   "metadata": {}
  },
  {
   "cell_type": "code",
   "execution_count": null,
   "metadata": {},
   "outputs": [],
   "source": [
    "# Import necessary libraries\n",
    "import matplotlib.pyplot as plt\n",
    "import numpy as np\n",
    "\n",
    "# This line just specify the default figure size for matplotlib\n",
    "# Quite handy to change, as the default in Jupyter is sometimes a bit too small!\n",
    "plt.rcParams['figure.figsize'] = [8, 8]"
   ]
  },
  {
   "cell_type": "code",
   "execution_count": null,
   "metadata": {},
   "outputs": [],
   "source": [
    "# Read the image\n",
    "cells = _____\n",
    "\n",
    "# Print its shape\n",
    "print(_____)\n",
    "\n",
    "# Display the image\n",
    "_____"
   ]
  },
  {
   "source": [
    "The image (source GerryShaw, [Wikimedia](https://commons.wikimedia.org/wiki/File:38F3-ChkNFH-DAPI-Shsy5y.jpg)) shows human SH-SY5Y cells.\n",
    "Channel 0 contains staining of the cells cytoskeleton, channel 1 staining for a nucleolar protein, and channel 2 shows DNA (nuclear) staining.\n",
    "\n",
    "We would like to determine which pixels correspond to nuclei. We would like to end up with a matrix of the same size as the original image, where each element is 1 if the pixel is in a nucleus, and 0 if it is elsewhere (cytoplasm or background)\n",
    "\n",
    "Let's start by isolating the channel with the nuclear staining; you can use `imshow` to ensure you got the correct one!"
   ],
   "cell_type": "markdown",
   "metadata": {}
  },
  {
   "cell_type": "code",
   "execution_count": null,
   "metadata": {},
   "outputs": [],
   "source": [
    "nuclei = _____\n",
    "\n",
    "# Show the image using a gray colourmap\n",
    "_____"
   ]
  },
  {
   "source": [
    "Let's start by plotting the image histogram to get an idea of the distribution of staining.\n",
    "We would expect two peaks: one corresponding to background and one corresponding to nuclear staining"
   ],
   "cell_type": "markdown",
   "metadata": {}
  },
  {
   "cell_type": "code",
   "execution_count": null,
   "metadata": {},
   "outputs": [],
   "source": [
    "# Show histogram\n",
    "_____"
   ]
  },
  {
   "source": [
    "The histogram tells us a lot! We can clearly distinguish background from nuclei, but rather than having a single background peak we get multiple ones.\n",
    "\n",
    "**Can you explain why?**"
   ],
   "cell_type": "markdown",
   "metadata": {}
  },
  {
   "source": [
    "We can now try to manually choose a threshold to separate nuclei from background.\n",
    "\n",
    "**Use the histogram to try and find the value that best separates background from nuclei.**\n",
    "\n",
    "You can try a few values and get a feeling for the one that visually gives the same result."
   ],
   "cell_type": "markdown",
   "metadata": {}
  },
  {
   "cell_type": "code",
   "execution_count": null,
   "metadata": {},
   "outputs": [],
   "source": [
    "nuclei_threshold_manual = nuclei > _____\n",
    "\n",
    "# Create a two panel figure with the original image on the left \n",
    "# and the thresholded version on the right \n",
    "_____"
   ]
  },
  {
   "source": [
    "Let's say you now want to determine what percentage of the image is occupied by cell nuclei?\n",
    "\n",
    "**How would you do that?**\n",
    "\n",
    "_Hint:_ you can use the numpy function `unique` with the `return_counts` parameter set to `True`. What does this function return? How can it help in answering the question above?"
   ],
   "cell_type": "markdown",
   "metadata": {}
  },
  {
   "cell_type": "code",
   "execution_count": null,
   "metadata": {},
   "outputs": [],
   "source": [
    "values, counts = np.unique(_____)\n",
    "print(f\"Percentage of image covered by nuclei is {_____}%\")"
   ]
  },
  {
   "source": [
    "As we saw in the lecture, there are better, more automatable, ways to determine an optimal threshold.\n",
    "\n",
    "Scikit Image provides several methods, which are imported below. \n",
    "\n",
    "- Apply the different methods to the image\n",
    "- Note that you have to specify the `block_size` parameter for `threshold_local` (and it MUST be an odd number). What happens if the block size is too small?\n",
    "- Visually compare the results of the various methods, including the manual thresholding\n",
    "- Calculate the percentage of pixels containing nuclei in the image in the various cases\n",
    "- Is there anything that stand out? How good was your manual threshold compared to the automatic methods?\n"
   ],
   "cell_type": "markdown",
   "metadata": {}
  },
  {
   "cell_type": "code",
   "execution_count": null,
   "metadata": {},
   "outputs": [],
   "source": [
    "from skimage.filters import threshold_otsu, threshold_li, threshold_local\n",
    "\n",
    "nuclei_threshold_otsu = _____\n",
    "nuclei_threshold_li = _____\n",
    "nuclei_threshold_local = _____ # Remember to specify block_size!\n",
    "\n",
    "# Now show the images\n",
    "# Create a figure with 4 plots showing the original image and the \n",
    "# three thresholded versions you just created\n",
    "_____\n",
    "\n",
    "# Print the % of image covered by nuclei in each thresholded image\n",
    "_____"
   ]
  },
  {
   "source": [
    "## Instance segmentation\n",
    "\n",
    "Instance segmentation is definitely a harder problem to solve.\n",
    "For each pixel, not only we want to define whether it is in a nucleus, but also which nucleus it is in!\n",
    "\n",
    "This will allow us to make cell-level measurements, a very useful tool for analysis of biological images! \n",
    "\n",
    "We are going to cover one of the _traditional_ methods, a technique called *watershed* (refer to the lecture on segmentation for more details!). There are more sophisticated methods for instance segmentation, we will see some of them later on in the course!\n",
    "\n",
    "The main idea of watershed is to first create a binary mask of our image, as we did above, then identify the center of each cell and use that as a _seed_ to divide the mask into instances.\n",
    "\n",
    "Let’s see how to do it with Scikit Image!\n",
    "\n",
    "Use the [distance_transform_edt](https://docs.scipy.org/doc/scipy/reference/generated/scipy.ndimage.distance_transform_edt.html) function to find the distance of each pixel of the image mask from the background. Visualize the result to better understand what is going on! You can use whichever mask gave you the best results in the previous part."
   ],
   "cell_type": "markdown",
   "metadata": {}
  },
  {
   "cell_type": "code",
   "execution_count": null,
   "metadata": {},
   "outputs": [],
   "source": [
    "from scipy.ndimage import distance_transform_edt\n",
    "\n",
    "distance = distance_transform_edt(_____)\n",
    "\n",
    "# Display the distance map"
   ]
  },
  {
   "source": [
    "You can see how the center of (almost all) cells is brighter. \n",
    "\n",
    "We will now proceed to the watershed, by using three functions.\n",
    "\n",
    "- [peak_local_max](https://scikit-image.org/docs/dev/api/skimage.feature.html#skimage.feature.peak_local_max) to retrieve the local maxima corresponding to the centers of each cell in our distance function.\n",
    "- [label](https://scikit-image.org/docs/dev/api/skimage.measure.html#skimage.measure.label), to label connected regions with the same values.\n",
    "- [watershed](https://scikit-image.org/docs/dev/api/skimage.segmentation.html#skimage.segmentation.watershed), to perform watershed segmentation and divide touching nuclei.\n",
    "\n",
    "I have completed most of the code below, but I encourage you to print/plot the various variables, and read the documentation linked above, to better understand what is going on! "
   ],
   "cell_type": "markdown",
   "metadata": {}
  },
  {
   "cell_type": "code",
   "execution_count": null,
   "metadata": {},
   "outputs": [],
   "source": [
    "from skimage.feature import peak_local_max\n",
    "from skimage.measure import label\n",
    "from skimage.segmentation import watershed\n",
    "\n",
    "# Find the local maxima of the distance map.\n",
    "# We need to impose a minimum distance between the peaks and we can specify \n",
    "# a \"footprint\" to search for local maxima. You can experiment with these value to find\n",
    "# one that works best with your image\n",
    "# peak_local_max returns the indices of the maxima\n",
    "local_maxima_idx = peak_local_max(distance, min_distance=_____, footprint=np.ones((3, 3)))\n",
    "\n",
    "# We create a matrix of \"False\" with the same shape of the image\n",
    "mask = np.zeros(distance.shape, dtype=bool)\n",
    "# We now mark the maxima as True (note that we need to transpose the matrix)\n",
    "mask[tuple(local_maxima_idx.T)] = True\n",
    "\n",
    "# Label connected regions\n",
    "markers = label(local_maxima)\n",
    "# Split touching nuclei using watershed\n",
    "segmented = watershed(-distance, markers, mask=nuclei_threshold_local)\n"
   ]
  },
  {
   "source": [
    "The segmented image will have each pixel marked with an integer (1,2,3,...) corresponding to the nucleus it belongs to. If you show it using a \"normal\" colourmap it may be difficult to distinguish between closeby nuclei. We will create a random colourmap to avoid this problem."
   ],
   "cell_type": "markdown",
   "metadata": {}
  },
  {
   "cell_type": "code",
   "execution_count": null,
   "metadata": {},
   "outputs": [],
   "source": [
    "# Use ListedColormap to create a random colormap to help visualize the results\n",
    "from matplotlib.colors import ListedColormap\n",
    "\n",
    "# Create a random array of values between 0 and 1, with shape (256, 3). \n",
    "# Why did we choose this shape?\n",
    "colours = np.random.rand(256,3)\n",
    "# Ensure 0 is black\n",
    "colours[0] = [_____, _____, _____] # How do you encode black? \n",
    "cmap_random = ListedColormap(colours)\n",
    "\n",
    "# Plot the segmented image with a gray or a random colourmap\n",
    "# Note that, especially when using the random colourmap, it is important to use nearest\n",
    "# interpolation, to avoid visual artefacts\n",
    "_____"
   ]
  },
  {
   "source": [
    "There are a few things you may want to try to improve segmentation.ipynb\n",
    "\n",
    "- Try different parameters for `peak_local_max`\n",
    "- Some initial filtering or denoising may help in some cases\n",
    "- The `skimage.morphology` module has two functions that may be useful, called [remove_small_objects](https://scikit-image.org/docs/dev/api/skimage.morphology.html#skimage.morphology.remove_small_objects) and [remove_small_holes](https://scikit-image.org/docs/dev/api/skimage.morphology.html#skimage.morphology.remove_small_holes). You may want to experiment with them!"
   ],
   "cell_type": "markdown",
   "metadata": {}
  },
  {
   "source": [
    "## Challenge of the week!\n",
    "\n",
    "Create a Python program that, given an image similar to the one used in this workshop, segments it and plots the distribution of the area of the nuclei.\n",
    "\n",
    "You should be able to call it as something like\n",
    "\n",
    "`python segmentation.py -input image.tif`"
   ],
   "cell_type": "markdown",
   "metadata": {}
  },
  {
   "cell_type": "code",
   "execution_count": null,
   "metadata": {},
   "outputs": [],
   "source": []
  }
 ]
}