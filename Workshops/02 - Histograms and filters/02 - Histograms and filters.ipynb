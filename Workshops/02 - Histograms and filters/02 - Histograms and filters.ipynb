{
 "cells": [
  {
   "cell_type": "markdown",
   "metadata": {},
   "source": [
    "# Workshop 02 - Histograms and filters\n",
    "_Author: Nicola Romanò - [nicola.romano@ed.ac.uk](mailto:nicola.romano@ed.ac.uk)_\n",
    "\n",
    "## Introduction\n",
    "\n",
    "This workshop will be based on what you have learned in lectures 3 and 4, related to image histograms and filters.\n",
    "\n",
    "In this practical we are going to apply some of that knowledge to the processing of biomedical images."
   ]
  },
  {
   "cell_type": "markdown",
   "metadata": {},
   "source": [
    "## Learning objectives\n",
    "\n",
    "At the end of this workshop you should be able to:\n",
    "- Plot and manipulate histograms of images\n",
    "- Apply filters to images"
   ]
  },
  {
   "cell_type": "markdown",
   "metadata": {},
   "source": [
    "## Histogram manipulation\n",
    "\n",
    "In Lecture 3 you learned about histograms and their use in image processing.\n",
    "\n",
    "Let's start with a few simple examples. Load the images `xray.png`, `mri.png` and `mouse.png` and plot them, alongside their histograms.\n",
    "\n",
    "Make sure you look at the shape of the image before plotting the histogram and think about what is the best way to plot the histogram.\n",
    "\n",
    "<details>\n",
    "    <summary style=\"cursor: pointer;\">Click here to reveal a hint.</summary>\n",
    "    When calling the <code>hist</code> function remember to flatten the image using <code>.ravel()</code> before plotting!</br>\n",
    "    <code>ravel()</code> will convert something like <code>[[1, 2], [3, 4]]</code> into <code>[1,2,3,4]</code>, which is what <code>hist</code> expects.<br/><br/>\n",
    "    Example usage:<code>img.ravel()</code>\n",
    "</details>\n",
    "\n",
    "Image credits:\n",
    "- Hand X-Rays: Rahim Packir Saibo, [CC-BY-2.0](https://creativecommons.org/licenses/by/2.0/)\n",
    "- MRI: Bryan Kiechle, [CC-BY-NC-2.0](https://creativecommons.org/licenses/by-nc/2.0/)\n",
    "- Mouse: Global Panorama, [CC-BY-SA-20](https://creativecommons.org/licenses/by-sa/2.0/)"
   ]
  },
  {
   "cell_type": "code",
   "execution_count": null,
   "metadata": {},
   "outputs": [],
   "source": [
    "# Import necessary libraries here\n",
    "\n",
    "# Load the three images\n",
    "xray = ___\n",
    "mri = ___\n",
    "mouse = ___\n",
    "\n",
    "# Print the images shape\n",
    "# Your code here\n",
    "\n",
    "# Plot the histograms\n",
    "# Your code here"
   ]
  },
  {
   "cell_type": "markdown",
   "metadata": {},
   "source": [
    "### Questions\n",
    "\n",
    "1. What can you conclude by looking at the histograms regarding their exposure/contrast?\n",
    "2. Can you explain why there are clear peaks in some of those histograms?\n",
    "3. Did you notice anything particular when looking at the MRI image and its corresponding histogram?"
   ]
  },
  {
   "cell_type": "markdown",
   "metadata": {},
   "source": [
    "When faced with situations like that of the MRI image, where a grayscale image is saved as RGB, there are two options:\n",
    "\n",
    "1. The simplest thing is to take one of the colour channels.\n",
    "\n",
    "2. Alternatively you can use the `rgb2gray` in `skimage.color` to convert an RGB image to a grayscale image. If you read the function's [manual page](https://scikit-image.org/docs/dev/api/skimage.color.html#skimage.color.rgb2gray), you will see that it uses the following formula to calculate a perceptively adjusted grayscale image\n",
    "\n",
    "`Y = 0.2125 R + 0.7154 G + 0.0721 B`\n",
    "\n",
    "In this case the results will be the same, but if you were to do this, for example with the mouse image you would get different results.\n",
    "\n",
    "**Now, either take one of the three colour channels or use `rgb2gray`, display the image and its histogram and save it to a file called `MRI_grayscale.png`.**\n",
    "\n",
    "### Questions\n",
    "\n",
    "- Do the image and histogram match what you had above?\n",
    "- *Optional*: try comparing the output of the two methods and see if you can find any differences. Also, you can try using these functions on the mouse image.\n"
   ]
  },
  {
   "cell_type": "code",
   "execution_count": null,
   "metadata": {},
   "outputs": [],
   "source": [
    "from ____ import rgb2gray\n",
    "from ____ import imsave\n",
    "from ____ import img_as_ubyte \n",
    "\n",
    "# Option 1 - take a single channel\n",
    "mri_gray = ____\n",
    "\n",
    "# Plot the image\n",
    "# Your code here\n",
    "\n",
    "# Option 2 - use rgb2gray\n",
    "mri_gray2 = ____\n",
    "\n",
    "# Plot the image\n",
    "# Your code here\n",
    "\n",
    "# Save the image to a file\n",
    "# Your code here\n",
    "\n",
    "# Optional Check all pixels are the same\n",
    "# Your code here"
   ]
  },
  {
   "cell_type": "markdown",
   "metadata": {},
   "source": [
    "### Exercise 1\n",
    "\n",
    "Create a function that, given an image plots its histogram.\n",
    "The function should have the following form:\n",
    "\n",
    "`plot_histogram(img, num_bins, show_img, log)`\n",
    "\n",
    "Where:\n",
    "\n",
    "- `img` is the image\n",
    "- `num_bins` is the number of bins in the histogram\n",
    "- `show_img` is a boolean that, if set to `True`, will display the image next to the histogram.\n",
    "- `log` is a boolean that, if set to `True`, will plot the histogram in logarithmic scale.\n",
    "\n",
    "Note that `img` can be either grayscale or RGB. It's up to you to produce an appropriate histogram."
   ]
  },
  {
   "cell_type": "code",
   "execution_count": null,
   "metadata": {},
   "outputs": [],
   "source": [
    "def plot_histogram(img, num_bins, show_img, log):\n",
    "    \"\"\"\n",
    "    Plots a histogram of the given image\n",
    "    Parameters:\n",
    "        img: image to be plotted\n",
    "        num_bins: number of bins in the histogram\n",
    "        show_img: if True, the image is plotted\n",
    "        log: if True, the histogram is plotted in log scale\n",
    "    \"\"\"\n",
    "\n",
    "    # Your code here\n",
    "\n",
    "# A few tests\n",
    "plot_histogram(xray, num_bins=256, show_img=True, log=True) \n",
    "plot_histogram(mouse, num_bins=256, show_img=False, log=False)\n",
    "plot_histogram(mouse, num_bins=256, show_img=True, log=False)"
   ]
  },
  {
   "cell_type": "markdown",
   "metadata": {},
   "source": [
    "## Histogram manipulation\n",
    "\n",
    "The MRI image is underexposed, as evidenced by the left-shifted histogram.\n",
    "\n",
    "### Exercise 2\n",
    "\n",
    "Use what you learnt in Lecture 3 to either stretch the histogram to the [0, 255] range or to equalize the histogram.\n",
    "\n",
    "Plot the resulting images, along with their respective histograms and cumulative histograms.\n",
    "Visually comparing the results side by side should give you a better understanding of these operations.\n"
   ]
  },
  {
   "cell_type": "code",
   "execution_count": null,
   "metadata": {},
   "outputs": [],
   "source": [
    "# Import necessary libraries\n",
    "\n",
    "# Stretch the histogram\n",
    "# Your code here\n",
    "\n",
    "# Equalise the histogram\n",
    "# Your code here\n",
    "\n",
    "# Now plot the results!\n"
   ]
  },
  {
   "cell_type": "markdown",
   "metadata": {},
   "source": [
    "## Rank filters\n",
    "\n",
    "We will now try in practice a few of the notions learnt in Lecture 4.\n",
    "Let's start practicing some of the rank filters such as max, min and median on the xray image.\n",
    "You can use the functions in [`skimage.filters.rank`](https://scikit-image.org/docs/stable/api/skimage.filters.rank.html) to apply these filters.\n",
    "Remember that you have to pass a neighborhood footprint to the function with the `selem` parameter. You can import different footprints from [`skimage.morphology`](https://scikit-image.org/docs/stable/api/), such as `disk` or `diamond`.\n",
    "\n",
    "Notice what happens to the image with the different filters and footprints."
   ]
  },
  {
   "cell_type": "code",
   "execution_count": null,
   "metadata": {},
   "outputs": [],
   "source": [
    "from skimage.filters.rank import ____\n",
    "from skimage.morphology import ____\n",
    "\n",
    "# Select a small crop of the image (e.g. 300x300 pixels) \n",
    "# to better see what's going on\n",
    "xray_crop = ____\n",
    "\n",
    "xray_min = ___\n",
    "xray_max = ___\n",
    "xray_med = ___\n",
    "\n",
    "# Plot the results\n",
    "# Your code here"
   ]
  },
  {
   "cell_type": "markdown",
   "metadata": {},
   "source": [
    "## Convolutional filters\n",
    "\n",
    "Let's now try some convolutional filters.\n",
    "\n",
    "As above, practice with the `skimage.filters` function `gaussian`. Try different values of sigma and see how that affects the image."
   ]
  },
  {
   "cell_type": "code",
   "execution_count": null,
   "metadata": {},
   "outputs": [],
   "source": [
    "from skimage.filters import gaussian\n",
    "\n",
    "xray_crop = ___\n",
    "\n",
    "# Generate and plot images with gaussian filter and a range of sigmas\n",
    "# Your code here"
   ]
  },
  {
   "cell_type": "markdown",
   "metadata": {},
   "source": [
    "### Exercise 3\n",
    "\n",
    "Now, let's try to implement a convolutional filter by ourselves.\n",
    "\n",
    "For example, let's use the following kernel:\n",
    "\n",
    "$\\begin{bmatrix}7 & 5 & 3 & 1 & 0\\\\ 5 & 3 & 1 & 0 & -1 \\\\ 3 & 1 & 0 & -1 & -3 \\\\ 1 & 0 & -1 & -3 & -5 \\\\ 0 & -1 & -3 & -5 & -7\\end{bmatrix}$\n",
    "\n",
    "\n",
    "Remember to convert the image to float before applying the convolution.\n",
    "\n",
    "**What happens if you do not? Why do you think that is?**\n"
   ]
  },
  {
   "cell_type": "code",
   "execution_count": null,
   "metadata": {},
   "outputs": [],
   "source": [
    "from skimage.filters.edges import convolve\n",
    "from skimage import img_as_float\n",
    "\n",
    "kernel = np.array([[7, 5, 3, 1, 0], \n",
    "                   [5, 3, 1, 0, -1], \n",
    "                   [3, 1, 0, -1, -3], \n",
    "                   [1, 0, -1, -3, -5], \n",
    "                   [0, -1, -3, -5, -7]])\n",
    "\n",
    "# Convolve the image with the kernel and plot the result!\n",
    "# Your code here"
   ]
  },
  {
   "cell_type": "markdown",
   "metadata": {},
   "source": [
    "### Exercise 4\n",
    "\n",
    "In Lecture 4 we talked about unsharp masking.\n",
    "\n",
    "This is the process of sharpening an image by adding the difference between the original image and a blurred version of the image to the image itself.\n",
    "\n",
    "Try writing your own unsharp masking function, `my_unsharp_mask(img, sigma, alpha)`. \n",
    "\n",
    "It should accept an image, a radius (the σ of the gaussian blur) and an amount for sharpening and return the sharpened image.\n",
    "\n",
    "Compare the results with the `skimage.filters.unsharp_mask` function.\n",
    "\n",
    "\n",
    "<details>\n",
    "    <summary style=\"cursor: pointer;\">Click here to reveal a hint.</summary>\n",
    "    This will be tricky to work on 8-bit images. Start by converting the image to float, and make sure that you clip any value that is too large or too small at the end of the processing.\n",
    "</details>\n",
    "\n",
    "Image credits:"
   ]
  },
  {
   "cell_type": "code",
   "execution_count": null,
   "metadata": {},
   "outputs": [],
   "source": [
    "from skimage.filters import gaussian, unsharp_mask\n",
    "\n",
    "def my_unsharp_mask(img, sigma, alpha):\n",
    "    \"\"\"\n",
    "    Sharpens an image using unsharp masking\n",
    "\n",
    "    Parameters\n",
    "    ----------\n",
    "    img : Image to be sharpened\n",
    "    sigma : Sigma of Gaussian filter\n",
    "    alpha : Amount of sharpening\n",
    "    \n",
    "    Returns\n",
    "    -------\n",
    "    The sharpened image\n",
    "    \"\"\"    \n",
    "    # Your code here\n",
    "    unsharp_image = ____\n",
    "\n",
    "    return unsharp_image\n",
    "\n",
    "fig, ax = plt.subplots(1, 3, figsize=(15, 5))\n",
    "\n",
    "# Plot the images. You can try different values of alpha and sigma\n",
    "sigma = 5\n",
    "alpha = 3\n",
    "\n",
    "ax[0].imshow(xray, cmap=\"gray\")\n",
    "ax[0].set_title(\"Original\", fontsize=15)\n",
    "ax[1].imshow(my_unsharp_mask(xray, sigma=sigma, alpha=alpha), cmap=\"gray\")\n",
    "ax[1].set_title(\"My unsharp masking ($\\\\sigma$=3, $\\\\alpha$=5)\", fontsize=15)\n",
    "ax[2].imshow(unsharp_mask(xray, radius=sigma, amount=alpha), cmap=\"gray\")\n",
    "ax[2].set_title(\"Unsharp masking ($\\\\sigma$=3, $\\\\alpha$=5)\", fontsize=15)\n",
    "\n",
    "for a in ax:\n",
    "    a.axis(\"off\")\n",
    "\n",
    "plt.tight_layout()"
   ]
  },
  {
   "cell_type": "markdown",
   "metadata": {},
   "source": [
    "### Removing noise\n",
    "\n",
    "We saw how some filters, such as the median filter and the Gaussian filter, can be used to remove noise. Let's create a couple of noisy versions of our xray image and apply the median and gaussian filter to them.\n",
    "\n",
    "We will add some \"salt and pepper noise\" to one version (that is, very bright and very dark pixels) and some Gaussian noise to the other.  "
   ]
  },
  {
   "cell_type": "code",
   "execution_count": null,
   "metadata": {},
   "outputs": [],
   "source": [
    "# I have provided the code to add noise for you. \n",
    "# Explore it and try to understand what it does.\n",
    "# You can try to write your own code, or put this in a function that you\n",
    "# can use to add noise to any image\n",
    "\n",
    "# Add normally distributed noise with mean 0 and standard deviation 15\n",
    "xray_gaus_noise = xray + np.random.normal(0, 15, size=xray.shape)\n",
    "# Important to convert to unsigned integer otherwise this would have a float dtype, \n",
    "# but with values between 0.0 and 255.0, which will cause a lot of trouble afterwards!\n",
    "xray_gaus_noise = np.clip(xray_gaus_noise, 0, 255).astype(np.uint8)\n",
    "xray_gaus_noise = img_as_ubyte(xray_gaus_noise)\n",
    "# For the salt and pepper noise, select a random number of pixels \n",
    "# and set them to either 0 or 255\n",
    "n_points = 10000\n",
    "\n",
    "pos_x = np.random.choice(range(xray.shape[0]), n_points)\n",
    "pos_y = np.random.choice(range(xray.shape[1]), n_points)\n",
    "\n",
    "xray_salt_pepper = xray.copy()\n",
    "for px, py in zip(pos_x, pos_y):\n",
    "    xray_salt_pepper[px, py] = np.random.choice([0, 255])\n",
    "\n",
    "# Plot the original image alongside the noisy images\n",
    "\n",
    "# Your code here"
   ]
  },
  {
   "cell_type": "markdown",
   "metadata": {},
   "source": [
    "### Exercise 5\n",
    "\n",
    "Apply the mean (or box) filter, the median filter and the gaussian filter to the noisy images and compare them to the original. What is the effect of the various methods? Does the type of noise make a difference?\n",
    "\n",
    "*Note*: it might be easier to only plot a crop of the image to compare the results more easily.\n",
    "\n",
    "<details>\n",
    "    <summary style=\"cursor: pointer;\">Click here to reveal a hint.</summary>\n",
    "    Use the <code>skimage.filters.rank.mean</code>, and <code>skimage.filters.median</code> and <code>skimage.filters.gaussian</code> functions.\n",
    "</details>\n"
   ]
  },
  {
   "cell_type": "code",
   "execution_count": null,
   "metadata": {},
   "outputs": [],
   "source": [
    "from ___ import ____\n",
    "\n",
    "xray_gaus_noise_mean = ___\n",
    "xray_gaus_noise_med = ___\n",
    "xray_gaus_noise_gaus = ___\n",
    "\n",
    "xray_salt_pepper_mean = ___\n",
    "xray_salt_pepper_med = ___\n",
    "xray_salt_pepper_gaus = ___\n",
    "\n",
    "# Plot the generated images side by side \n",
    "# (use a crop to make the differences more obvious)"
   ]
  },
  {
   "cell_type": "markdown",
   "metadata": {},
   "source": [
    "### The end!\n",
    "\n",
    "Congratulations! You made it to the end of this workshop!\n",
    "Please remember to discuss your solutions on the Slack channel!"
   ]
  }
 ],
 "metadata": {
  "kernelspec": {
   "display_name": "Python 3.10.6 ('workshops_env': venv)",
   "language": "python",
   "name": "python3"
  },
  "language_info": {
   "codemirror_mode": {
    "name": "ipython",
    "version": 3
   },
   "file_extension": ".py",
   "mimetype": "text/x-python",
   "name": "python",
   "nbconvert_exporter": "python",
   "pygments_lexer": "ipython3",
   "version": "3.10.6"
  },
  "orig_nbformat": 4,
  "vscode": {
   "interpreter": {
    "hash": "ab7d69a5608867b8a0d84804868560ce8d8f85bb8eaf23cf6f0d8cd6c7ca7767"
   }
  }
 },
 "nbformat": 4,
 "nbformat_minor": 2
}
