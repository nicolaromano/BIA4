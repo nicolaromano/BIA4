{
 "cells": [
  {
   "cell_type": "markdown",
   "metadata": {},
   "source": [
    "# Worshop 1 - Image manipulation and visualization\n",
    "\n",
    "_Author: Nicola Romanò - [nicola.romano@ed.ac.uk](mailto:nicola.romano@ed.ac.uk)_\n",
    "\n",
    "## Introduction\n",
    "\n",
    "This first workshop will allow you to practice what you learned in Lectures 1 and 2, related to basic image manipulation and visualization.\n",
    "\n",
    "All workshops in the course are in the form of Jupyter notebooks, so that you can easily write, test and modify the code as you read through the document.\n",
    "\n",
    "In this notebook we are going to apply some of the knowledge from the lectures about preprocessing.\n"
   ]
  },
  {
   "cell_type": "markdown",
   "metadata": {},
   "source": [
    "## Learning objectives\n",
    "\n",
    "At the end of this workshop you should be able to:\n",
    "- Open and visualize images using Python and colourmap them\n",
    "- Crop images\n",
    "- Apply affine transformations to images\n",
    "- Save modified images\n",
    "- Visualize videos/3D stacks/multidimensional images"
   ]
  },
  {
   "cell_type": "markdown",
   "metadata": {},
   "source": [
    "## Images as matrices"
   ]
  },
  {
   "cell_type": "markdown",
   "metadata": {},
   "source": [
    "In lecture 1 we learnt how we can use matrices (or tensors, that is multi-dimensional matrices) to represent an image.\n",
    "\n",
    "We also introduced the [Numpy library](https://numpy.org/) as a great way to deal with matrix manipulations.\n",
    "In this first exercise we will use numpy to create a few images.\n",
    "\n",
    "Let's start by using the `zeros` function from `numpy` to create a 100x100 matrix of zeros. We specify a uint8 (unsigned integer, 8 bit) data type, so that our values are interpreted as 8 bit integers, between 0 and 255. If we did not specify that, numpy would consider our data as real numbers (float)."
   ]
  },
  {
   "cell_type": "code",
   "execution_count": null,
   "metadata": {},
   "outputs": [],
   "source": [
    "import _____  # Insert module name here\n",
    "img = np.zeros(shape = ____, dtype=np.uint8) # Write the shape of the image here as a tuple"
   ]
  },
  {
   "cell_type": "markdown",
   "metadata": {},
   "source": [
    "We can now visualize the image we just created using the `imshow` function from `matplotlib`.\n",
    "\n",
    "Use what you learnt in the lectures to visualize the image using Matplotlib"
   ]
  },
  {
   "cell_type": "code",
   "execution_count": null,
   "metadata": {},
   "outputs": [],
   "source": [
    "# Your code to visualize img here"
   ]
  },
  {
   "cell_type": "markdown",
   "metadata": {},
   "source": [
    "If all is correct, you should see a 100x100 dark purple square.\n",
    "\n",
    "**Why is it not black?**\n",
    "\n",
    "\n",
    "<details>\n",
    "    <summary style=\"cursor: pointer;\">Click here to reveal a hint.</summary>\n",
    "    What colourmap is `imshow` using by default? Check out the documentation!\n",
    "    Now change the colourmap to \"gray\" and see what happens!\n",
    "</details>\n"
   ]
  },
  {
   "cell_type": "code",
   "execution_count": null,
   "metadata": {},
   "outputs": [],
   "source": [
    "# Your code here - visualize img with the \"gray\" colourmap"
   ]
  },
  {
   "cell_type": "markdown",
   "metadata": {},
   "source": [
    "OK, so we've got a pretty boring, black image. Let's change the central pixels to a value of 255 (for example a 20x20 square of pixels).\n",
    "\n",
    "Then, display the image again.\n",
    "\n",
    "Note that, when plotting an image, should you want to remove the axes you can use \n",
    "`plt.axis(\"off\")`, try it now!"
   ]
  },
  {
   "cell_type": "code",
   "execution_count": null,
   "metadata": {},
   "outputs": [],
   "source": [
    "img[_____] = 255\n",
    "\n",
    "# Show the image here"
   ]
  },
  {
   "cell_type": "markdown",
   "metadata": {},
   "source": [
    "### Exercise 1\n",
    "\n",
    "Using a similar approach, generate and display the following image, going from a value of 0 at the top to a value of 100 at the bottom, in steps of 10.\n",
    "\n",
    "<details>\n",
    "    <summary style=\"cursor: pointer;\">Click here to reveal a hint.</summary>\n",
    "    Using a for loop and the range function will make this very easy! \n",
    "</details>\n",
    "\n",
    "![](exercise1.png)"
   ]
  },
  {
   "cell_type": "code",
   "execution_count": null,
   "metadata": {},
   "outputs": [],
   "source": [
    "# Your code for Exercise 1 here"
   ]
  },
  {
   "cell_type": "markdown",
   "metadata": {},
   "source": [
    "Once we have an image inside a matrix we can easily save it to file using the `imsave` function (from `skimage.io`).\n",
    "Try saving the image you just created to the \"stripes.png\" file.\n",
    "\n",
    "<hr />\n",
    "\n",
    "*Important note*: the `imread` and `imsave` functions are available both in `matplotlib.pyplot` and in `skimage.io`. While they share the same syntax, they are not quite equivalent.\n",
    "\n",
    "The differences are especially annoying when it comes to reading and saving images. In general, for scientific images I would recommend using the Scikit Image functions, as their behaviour makes more sense, especially for microscopy images. As a rule of thumb, after you read an image, use the print function to check the image content and try to display it to make sure it is what you expect."
   ]
  },
  {
   "cell_type": "code",
   "execution_count": null,
   "metadata": {},
   "outputs": [],
   "source": [
    "import skimage.io as io\n",
    "io.imsave(____)"
   ]
  },
  {
   "cell_type": "markdown",
   "metadata": {},
   "source": [
    "You can now try and read the image back into a new variable, display and (visually) check that the whole process actually worked!"
   ]
  },
  {
   "cell_type": "code",
   "execution_count": null,
   "metadata": {},
   "outputs": [],
   "source": [
    "# Your code here"
   ]
  },
  {
   "cell_type": "markdown",
   "metadata": {},
   "source": [
    "## Data types\n",
    "\n",
    "It is important, at this point, to note that **some** Scikit Image functions will store images as floating point numbers (floats) between [0; 1] or [-1; 1].\n",
    "While this is very handy in certain cases, it might cause some bizarre behaviour in other situations, so it is always good to check what your image looks like by looking at its `dtype`. An 8-bit image should have a `uint8` (unsigned integer, 8 bit) data type.\n",
    "\n",
    "Scikit Image has a series of functions to convert images between different types:\n",
    "\n",
    "- `img_as_ubyte` -> converts image to 8 bit (between 0 and 255)\n",
    "- `img_as_float` -> converts image to float (between 0 and 1 if converting from unsigned integer, between -1 and 1 if converting from signed)\n",
    "- `img_as_int` and `img_as_uint`  -> convert to 16 bit signed or unsigned integer (-32768 to 32768 or 0 to 65535 respectively)\n",
    "\n",
    "Now try to convert the image to float and then back to unsigned integer.\n",
    "\n",
    "Print the `dtype` and a few values of the image and compare what you get. Did the conversion work as you expected?"
   ]
  },
  {
   "cell_type": "code",
   "execution_count": null,
   "metadata": {},
   "outputs": [],
   "source": [
    "from skimage import ___, ___\n",
    "\n",
    "img_float = ____\n",
    "img_uint = ____\n",
    "\n",
    "# Print data types (look at dtype attribute)\n",
    "# Your code here\n",
    "\n",
    "# Print image values\n",
    "# Your code here"
   ]
  },
  {
   "cell_type": "markdown",
   "metadata": {},
   "source": [
    "### Exercise 2 - *Some fun with colourmapping.*\n",
    "\n",
    "Create a figure with a 3x3 grid of plots showing your image with nine different colourmaps. You might want to note how different colourmaps give different impressions of the image.\n",
    "\n",
    "Look at the [Matplotlib page on colourmaps](https://matplotlib.org/stable/tutorials/colors/colormaps.html) to see a list of the available colourmaps. Alternatively you could use the `plt.colormaps()` function to get a list of all available colourmaps.\n",
    "\n",
    "<details>\n",
    "    <summary style=\"cursor: pointer;\">Here are a few hints to get you going!</summary>\n",
    "    <ul>\n",
    "    <li>Use the `subplots` function to create a grid of plots</li>\n",
    "    <li>Note that subplots will return the axes as a 3x3 matrix, so you will have to access them as <code>ax[0,0]</code>, <code>ax[0,1]</code> and so on</li>\n",
    "    <li>A better way to do this is to put the names of the colourmaps in an array, then use a loop (e.g. with <code>enumerate</code>) to traverse the axes.\n",
    "    Note that, in order to do that, you will need to <em>flatten</em> the axes matrix using <code>ax.flat</code>, for example <code>for i,a in enumerate(ax.flat):</code></li>\n",
    "    </ul>  \n",
    "</details>"
   ]
  },
  {
   "cell_type": "code",
   "execution_count": null,
   "metadata": {},
   "outputs": [],
   "source": [
    "fig, ax = plt.subplots(______)\n",
    "\n",
    "# Plot the image with 9 different colourmaps\n",
    "\n",
    "plt.show()"
   ]
  },
  {
   "cell_type": "markdown",
   "metadata": {},
   "source": [
    "## Cropping images\n",
    "\n",
    "We will now practice cropping some images.\n",
    "\n",
    "Start by loading the nucleoli.png image and display it. This is an immunofluorescence showing nucleoli of HEp-20-10 human epitelial cells (Simon Caulton - [CC-BY-SA 3.0](https://creativecommons.org/licenses/by-sa/3.0/)).\n",
    "\n",
    "**What are the image dimensions?**"
   ]
  },
  {
   "cell_type": "code",
   "execution_count": null,
   "metadata": {},
   "outputs": [],
   "source": [
    "# Read image\n",
    "nucleoli = _____ \n",
    "# Show image\n",
    "________\n",
    "# Get image dimensions\n",
    "________"
   ]
  },
  {
   "cell_type": "markdown",
   "metadata": {},
   "source": [
    "Crop the image to only display the two nuclei on the bottom right corner (it might take a bit of trial and error to get the correct coordinates...). Display the cropped image."
   ]
  },
  {
   "cell_type": "code",
   "execution_count": null,
   "metadata": {},
   "outputs": [],
   "source": [
    "nucleoli_cropped = ______\n",
    "\n",
    "plt.imshow(nucleoli_cropped, cmap=\"gray\")\n",
    "plt.show()"
   ]
  },
  {
   "cell_type": "markdown",
   "metadata": {},
   "source": [
    "Now, load the langat.jpg image, which contains a confocal image of cells infected with Langat virus (National Institute of Allergy and Infectious Diseases (NIAID) [CC-BY-2.0](https://creativecommons.org/licenses/by/2.0/)).\n",
    "\n",
    "**Examine the shape of the image, what does that tell you?**"
   ]
  },
  {
   "cell_type": "code",
   "execution_count": null,
   "metadata": {},
   "outputs": [],
   "source": [
    "# Your code here\n",
    "# Load the image, find its shape and display it!"
   ]
  },
  {
   "cell_type": "markdown",
   "metadata": {},
   "source": [
    "Create a 1x3 visualization of the three colour channels in the image.\n",
    "Try setting the title of each subplot using the `set_title` function (e.g. ax.set_title(\"title of the panel\")).\n",
    "You can also use the `plt.suptitle` function to set a title for the whole figure.\n",
    "\n",
    "<details>\n",
    "    <summary style=\"cursor: pointer;\">Click for a hint.</summary>\n",
    "    In this case we have a three-dimensional matrix. This is really a case of \"cropping\" the image in each colour channel, and displaying each channel using `imshow`.    \n",
    "</details>"
   ]
  },
  {
   "cell_type": "code",
   "execution_count": null,
   "metadata": {},
   "outputs": [],
   "source": [
    "fig, ax = plt.subplots(1, 3, figsize=(12,4))\n",
    "\n",
    "# Display each channel in one axis, add a title to the image and to each panel"
   ]
  },
  {
   "cell_type": "markdown",
   "metadata": {},
   "source": [
    "Now, crop the image so to only visualize channel 2 of a single cell of your choice"
   ]
  },
  {
   "cell_type": "code",
   "execution_count": null,
   "metadata": {},
   "outputs": [],
   "source": [
    "langat_cropped = ___\n",
    "\n",
    "plt.imshow(langat_cropped, cmap = \"gray\")\n",
    "plt.show()"
   ]
  },
  {
   "cell_type": "markdown",
   "metadata": {},
   "source": [
    "### Exercise 3 - 3D images\n",
    "\n",
    "The pituitary_stack.tif image contains a 3D confocal stack of a pituitary slice (Nicola Romanò - [CC-BY-SA 3.0](https://creativecommons.org/licenses/by-sa/3.0/))\n",
    "\n",
    "Load the image, look at its shape and visualize every 3rd slice\n"
   ]
  },
  {
   "cell_type": "code",
   "execution_count": null,
   "metadata": {},
   "outputs": [],
   "source": [
    "pit = _____ # Read image\n",
    "\n",
    "print(pit.shape)\n",
    "\n",
    "# Display every 3rd slice in a panel"
   ]
  },
  {
   "cell_type": "markdown",
   "metadata": {},
   "source": [
    "A different way of showing 3D images is that of creating a new image, where each pixels has the maximum intensity of all pixels at that position in the stack.\n",
    "\n",
    "This is called a **maximum intensity projection** or MIP.\n",
    "\n",
    "The `max` function in Numpy makes it supereasy to create MIPs. You can use the `axis` parameter to project along different axes.\n",
    "\n",
    "Try it below and compare to the images above."
   ]
  },
  {
   "cell_type": "code",
   "execution_count": null,
   "metadata": {},
   "outputs": [],
   "source": [
    "plt.imshow(np.max(pit, axis=0),cmap=\"gray\")\n",
    "plt.show()"
   ]
  },
  {
   "cell_type": "markdown",
   "metadata": {},
   "source": [
    "Now create a MIP for the XZ and YZ planes.\n",
    "Because of the large number of cells, these projections will probably be difficult to understand. Performing them on crops of the original image might help."
   ]
  },
  {
   "cell_type": "code",
   "execution_count": null,
   "metadata": {},
   "outputs": [],
   "source": [
    "fig, ax = plt.subplots(2, 1, figsize = (12,6))\n",
    "\n",
    "# Create MIPs in XZ and YZ\n",
    "ax[0].imshow(_____, cmap=\"gray\")\n",
    "ax[1].imshow(_____, cmap=\"gray\")\n",
    "plt.show()"
   ]
  },
  {
   "cell_type": "markdown",
   "metadata": {},
   "source": [
    "There are more advanced ways of displaying 3D images. One that you might want to explore is Napari. This is a fast, interactive, multi-dimensional image viewer for Python. It’s designed for browsing, annotating, and analyzing large multi-dimensional images.\n",
    "\n",
    "[The Napari website](https://napari.org/tutorials/) has lots of interesting tutorials, which you can explore in your own time, if you are interested in 3D visualizations."
   ]
  },
  {
   "cell_type": "markdown",
   "metadata": {},
   "source": [
    "## Affine transformations\n",
    "\n",
    "In lecture 2, we talked about affine transformations and how they can be used to manipulate images.\n",
    "\n",
    "Given the nucleoli image from above, try to scale it using the `rescale` function from `skimage` to:\n",
    "\n",
    "1. 1/10 of its resolution\n",
    "2. twice in x and three times in y\n",
    "\n",
    "Display the results."
   ]
  },
  {
   "cell_type": "code",
   "execution_count": null,
   "metadata": {},
   "outputs": [],
   "source": [
    "from skimage.transform import rescale\n",
    "\n",
    "plt.imshow(nucleoli, \"gray\")\n",
    "plt.show()\n",
    "\n",
    "# Rescale to 1/10 and display\n",
    "________\n",
    "plt.show()\n",
    "# Rescale 2 times in x and 3 in y, then display\n",
    "________\n",
    "plt.show()\n"
   ]
  },
  {
   "cell_type": "markdown",
   "metadata": {},
   "source": [
    "Visually compare the results of different orders of interpolation when downscaling to twice the resolution (it might be difficult to see an appreciable difference, unless you \"zoom in\" on a detail of the image, by displaying a crop)."
   ]
  },
  {
   "cell_type": "code",
   "execution_count": null,
   "metadata": {},
   "outputs": [],
   "source": [
    "fig, ax = plt.subplots(2, 3, figsize=(12,6))\n",
    "\n",
    "for i, a in enumerate(ax.flat):\n",
    "    nucleoli_big = _______ # rescale image here, with interpolation order i\n",
    "    a.imshow(nucleoli_big[300:350, 750:800], cmap=\"gray\")\n",
    "    a.set_title(f\"Order = {i}\")\n",
    "\n",
    "plt.show()"
   ]
  },
  {
   "cell_type": "markdown",
   "metadata": {},
   "source": [
    "Reload your stripes.png picture and use the skimage `rotate` function to rotate it by 30, 45 or 90 degrees."
   ]
  },
  {
   "cell_type": "code",
   "execution_count": null,
   "metadata": {},
   "outputs": [],
   "source": [
    "from skimage.transform import rotate\n",
    "\n",
    "# Display the stripes image rotated 0, 30, 45, or 90 degrees"
   ]
  },
  {
   "cell_type": "markdown",
   "metadata": {},
   "source": [
    "We learned in the lecture that the `rotate` function performs matrix multiplication to rotate the points. \n",
    "\n",
    "**Can you think of another way of rotating the image by 90 degrees?**"
   ]
  },
  {
   "cell_type": "code",
   "execution_count": null,
   "metadata": {},
   "outputs": [],
   "source": [
    "# Your code here"
   ]
  },
  {
   "cell_type": "markdown",
   "metadata": {},
   "source": [
    "Similarly to what you have done above, see what the effect of different types of interpolation is on the results of a 30 degrees rotation using `rotate` (set the `order` parameter as you did above).\n",
    "\n",
    "You can crop the image to see the effect more in detail"
   ]
  },
  {
   "cell_type": "code",
   "execution_count": null,
   "metadata": {},
   "outputs": [],
   "source": [
    "# Display a 30 degrees rotation with different orders of interpolation"
   ]
  },
  {
   "cell_type": "markdown",
   "metadata": {},
   "source": [
    "Finally, let's try building our own transformation matrix.\n",
    "\n",
    "- Use `SimilarityTransform` to create a matrix that rotates an image by 20 degrees and translates it 10 pixels to the left and 10 to the bottom\n",
    "- Note that `SimilarityTransform` expects the angle to be in radians. You can convert degrees into radians using `np.deg2rad(angle)`\n",
    "- Use what you learnt in the lectures to predict what the value of such matrix would be. Check it by printing the matrix.\n",
    "- Apply the matrix to the stripes image using the `warp` function.\n"
   ]
  },
  {
   "cell_type": "code",
   "execution_count": null,
   "metadata": {},
   "outputs": [],
   "source": [
    "from skimage.transform import SimilarityTransform, warp\n",
    "\n",
    "matrix = _____\n",
    "\n",
    "print(matrix)\n",
    "\n",
    "stripes_transformed = ______\n",
    "plt.imshow(stripes_transformed, cmap=\"gray\")\n",
    "plt.show()"
   ]
  },
  {
   "cell_type": "markdown",
   "metadata": {},
   "source": [
    "### You made it to the end! Well done!"
   ]
  }
 ],
 "metadata": {
  "interpreter": {
   "hash": "045c9022d3b3a006eb654a32594658aa2ac2574261eab089b2cd4f7dfda97bca"
  },
  "kernelspec": {
   "display_name": "Python 3.7.11 64-bit ('bia4_env': venv)",
   "name": "python3"
  },
  "language_info": {
   "codemirror_mode": {
    "name": "ipython",
    "version": 3
   },
   "file_extension": ".py",
   "mimetype": "text/x-python",
   "name": "python",
   "nbconvert_exporter": "python",
   "pygments_lexer": "ipython3",
   "version": "3.12.4"
  },
  "orig_nbformat": 4
 },
 "nbformat": 4,
 "nbformat_minor": 2
}
