{
 "metadata": {
  "language_info": {
   "codemirror_mode": {
    "name": "ipython",
    "version": 3
   },
   "file_extension": ".py",
   "mimetype": "text/x-python",
   "name": "python",
   "nbconvert_exporter": "python",
   "pygments_lexer": "ipython3",
   "version": "3.7.11"
  },
  "orig_nbformat": 4,
  "kernelspec": {
   "name": "python3",
   "display_name": "Python 3.7.11 64-bit ('bia4_env': venv)"
  },
  "interpreter": {
   "hash": "045c9022d3b3a006eb654a32594658aa2ac2574261eab089b2cd4f7dfda97bca"
  }
 },
 "nbformat": 4,
 "nbformat_minor": 2,
 "cells": [
  {
   "cell_type": "markdown",
   "source": [
    "# Worshop 1 - Image manipulation and visualization\n",
    "\n",
    "_Author: Nicola Romanò - [nicola.romano@ed.ac.uk](mailto:nicola.romano@ed.ac.uk)_\n",
    "\n",
    "## Introduction\n",
    "\n",
    "This first workshop will allow you to practice what you learned in Lectures 1 and 2, related to basic image manipulation and visualization.\n",
    "\n",
    "All workshops in the course are in the form of Jupyter notebooks, so that you can easily write, test and modify the code as you read through the document.\n",
    "\n",
    "In this practical we are going to apply some of the knowledge from the lectures about preprocessing.\n"
   ],
   "metadata": {}
  },
  {
   "cell_type": "markdown",
   "source": [
    "## Learning objectives\n",
    "\n",
    "At the end of this workshop you should be able to:\n",
    "- Open and visualize images using Python and colourmap them\n",
    "- Crop images\n",
    "- Apply affine transformations to images\n",
    "- Save modified images\n",
    "- Visualize videos/3D stacks/multidimensional images"
   ],
   "metadata": {}
  },
  {
   "cell_type": "markdown",
   "source": [
    "## Images as matrices"
   ],
   "metadata": {}
  },
  {
   "cell_type": "markdown",
   "source": [
    "In lecture 1 we learnt how we can use matrices (or tensors, that is multi-dimensional matrices) to represent an image.\n",
    "\n",
    "We also introduced the [Numpy library](https://numpy.org/) as a great way to deal with matrix manipulations.\n",
    "In this first exercise we will use numpy to create a few images.\n",
    "\n",
    "Let's start by using the `zeros` function from `numpy` to create a 100x100 matrix of zeros. We specify a uint8 (unsigned integer, 8 bit) data type, so that our values are interpreted as 8 bit integers, between 0 and 255. If we did not specify that, numpy would consider our data as real numbers (float)."
   ],
   "metadata": {}
  },
  {
   "cell_type": "code",
   "execution_count": 2,
   "source": [
    "import _____\n",
    "img = np.zeros(shape = ____, dtype=np.uint8)"
   ],
   "outputs": [],
   "metadata": {}
  },
  {
   "cell_type": "markdown",
   "source": [
    "We can now visualize the image we just created using the `imshow` function from `matplotlib`.\n",
    "\n",
    "Use what you learnt in the lectures to visualize the image using Matplotlib"
   ],
   "metadata": {}
  },
  {
   "cell_type": "code",
   "execution_count": 1,
   "source": [
    "# Your code to visualize img here"
   ],
   "outputs": [],
   "metadata": {}
  },
  {
   "cell_type": "markdown",
   "source": [
    "If all is correct, you should see a 100x100 dark purple square.\n",
    "\n",
    "**Why is it not black?**\n",
    "\n",
    "\n",
    "<details>\n",
    "    <summary style=\"cursor: pointer;\">Click here to reveal a hint.</summary>\n",
    "    What colourmap is `imshow` using by default? Check out the documentation!\n",
    "    Now change the colourmap to \"gray\" and see what happens!\n",
    "</details>\n"
   ],
   "metadata": {}
  },
  {
   "cell_type": "code",
   "execution_count": 2,
   "source": [
    "# Your code here - visualize img with the \"gray\" colourmap"
   ],
   "outputs": [],
   "metadata": {}
  },
  {
   "cell_type": "markdown",
   "source": [
    "OK, so we've got a pretty boring, black image. Let's change the central pixels to a value of 255 (for example a 20x20 square of pixels).\n",
    "\n",
    "Then, display the image again.\n",
    "\n",
    "Note that, when plotting an image, should you want to remove the axes you can use \n",
    "`plt.axis(\"off\")`, try it now!\n"
   ],
   "metadata": {}
  },
  {
   "cell_type": "code",
   "execution_count": 4,
   "source": [
    "img[_____] = 255\n",
    "\n",
    "# Show the image here"
   ],
   "outputs": [],
   "metadata": {}
  },
  {
   "cell_type": "markdown",
   "source": [
    "### Exercise 1\n",
    "\n",
    "Using a similar approach, generate and display the following image, going from a value of 0 at the top to a value of 100 at the bottom, in steps of 10.\n",
    "\n",
    "<details>\n",
    "    <summary style=\"cursor: pointer;\">Click here to reveal a hint.</summary>\n",
    "    Using a for loop and the range function will make this very easy! \n",
    "</details>\n",
    "\n",
    "![](exercise1.png)"
   ],
   "metadata": {}
  },
  {
   "cell_type": "code",
   "execution_count": null,
   "source": [
    "# Your code for Exercise 1 here"
   ],
   "outputs": [],
   "metadata": {}
  },
  {
   "cell_type": "markdown",
   "source": [
    "Once we have an image inside a matrix we can easily save it to file using the `imsave` function (from `skimage.io`).\n",
    "Try saving the image you just created to the \"stripes.png\" file.\n",
    "\n",
    "<hr />\n",
    "\n",
    "*Important note*: the `imread` and `imsave` functions are available both in `matplotlib.pyplot` and in `skimage.io`. While they share the same syntax, they are not quite equivalent.\n",
    "\n",
    "The differences are especially annoying when it comes to reading and saving images. In general, for scientific images I would recommend using the Scikit Image functions, as their behaviour makes more sense, especially for microscopy images. In any case, always check that the shape of the images you are saving/loading is what you expect them to be! "
   ],
   "metadata": {}
  },
  {
   "cell_type": "code",
   "execution_count": 7,
   "source": [
    "import skimage.io as io\n",
    "io.imsave(____)"
   ],
   "outputs": [],
   "metadata": {}
  },
  {
   "cell_type": "markdown",
   "source": [
    "You can now try and read the image back into a new variable, display and (visually) check that the whole process actually worked!"
   ],
   "metadata": {}
  },
  {
   "cell_type": "code",
   "execution_count": null,
   "source": [
    "# Your code here"
   ],
   "outputs": [],
   "metadata": {}
  },
  {
   "cell_type": "markdown",
   "source": [
    "## Data types\n",
    "\n",
    "It is important, at this point, to note that some Scikit Image functions will store images as floating point numbers (floats) between [0; 1] or [-1; 1].\n",
    "While this is very handy in certain cases, it might cause some bizarre behaviour in other situations, so it is always good to check what your image looks like by looking at its `dtype`. An 8-bit image should have a `uint8` (unsigned integer, 8 bit) data type.\n",
    "\n",
    "Scikit Image has a series of functions to convert images between different types:\n",
    "\n",
    "- `img_as_ubyte` -> converts image to 8 bit (between 0 and 255)\n",
    "- `img_as_float` -> converts image to float (between 0 and 1 if converting from unsigned integer, between -1 and 1 if converting from signed)\n",
    "- `img_as_int` and `img_as_uint`  -> convert to 16 bit signed or unsigned integer (-32768 to 32768 or 0 to 65535 respectively)\n",
    "\n",
    "Now try to convert the image to float and then back to unsigned integer.\n",
    "\n",
    "Print the `dtype` and a few values of the image and compare what you get."
   ],
   "metadata": {}
  },
  {
   "cell_type": "code",
   "execution_count": null,
   "source": [
    "from skimage import ___, ___\n",
    "\n",
    "img_float = ____\n",
    "img_uint = ____\n",
    "\n",
    "# Print data types (look at dtype attribute)\n",
    "# Your code here\n",
    "\n",
    "# Print image values\n",
    "# Your code here"
   ],
   "outputs": [],
   "metadata": {}
  },
  {
   "cell_type": "markdown",
   "source": [
    "### Exercise 2 - *Some fun with colourmapping.*\n",
    "\n",
    "Create a figure with a 3x3 grid of plots showing your image with nine different colourmaps. You might want to note how different colourmaps give different impressions of the image.\n",
    "\n",
    "Look at the [Matplotlib page on colourmaps](https://matplotlib.org/stable/tutorials/colors/colormaps.html) to see a list of the available colourmaps.\n",
    "\n",
    "<details>\n",
    "    <summary style=\"cursor: pointer;\">Here are a few hints to get you going!</summary>\n",
    "    <ul>\n",
    "    <li>Use the `subplots` function to create a grid of plots</li>\n",
    "    <li>Note that subplots will return the axes as a 3x3 matrix, so you will have to access them as <code>ax[0,0]</code>, <code>ax[0,1]</code> and so on</li>\n",
    "    <li>A better way to do this is to put the names of the colourmaps in an array, then use a loop (e.g. with <code>enumerate</code>) to traverse the axes.\n",
    "    Note that, in order to do that, you will need to <em>flatten</em> the axes matrix using <code>ax.ravel()</code>, for example <code>for i,a in enumerate(ax.ravel()):</code></li>\n",
    "    </ul>  \n",
    "</details>"
   ],
   "metadata": {}
  },
  {
   "cell_type": "code",
   "execution_count": null,
   "source": [
    "fig, ax = plt.subplots(______)\n",
    "\n",
    "# Plot the image with 9 different colourmaps\n",
    "\n",
    "plt.show()"
   ],
   "outputs": [],
   "metadata": {}
  },
  {
   "cell_type": "markdown",
   "source": [
    "## Cropping images\n",
    "\n",
    "We will now practice cropping some images.\n",
    "\n",
    "Start by loading the nucleoli.png image and display it. This is an immunofluorescence showing nucleoli of HEp-20-10 human epitelial cells (Simon Caulton - [CC-BY-SA 3.0](https://creativecommons.org/licenses/by-sa/3.0/)).\n",
    "\n",
    "**What are the image dimensions?**"
   ],
   "metadata": {}
  },
  {
   "cell_type": "code",
   "execution_count": null,
   "source": [
    "# Read image\n",
    "nucleoli = _____ \n",
    "# Show image\n",
    "________\n",
    "# Get image dimensions\n",
    "________"
   ],
   "outputs": [],
   "metadata": {}
  },
  {
   "cell_type": "markdown",
   "source": [
    "Crop the image to only display the two nuclei on the bottom right corner (it might take a bit of trial and error to get the correct coordinates...)"
   ],
   "metadata": {}
  },
  {
   "cell_type": "code",
   "execution_count": null,
   "source": [
    "nucleoli_cropped = ______\n",
    "\n",
    "plt.imshow(nucleoli_cropped, cmap=\"gray\")\n",
    "plt.show()"
   ],
   "outputs": [],
   "metadata": {}
  },
  {
   "cell_type": "markdown",
   "source": [
    "Now, load the langat.jpg image, which contains a confocal image of cells infected with Langat virus (National Institute of Allergy and Infectious Diseases (NIAID) [CC-BY-2.0](https://creativecommons.org/licenses/by/2.0/)).\n",
    "\n",
    "**Examine the shape of the image, what does that tell you?**"
   ],
   "metadata": {}
  },
  {
   "cell_type": "code",
   "execution_count": null,
   "source": [
    "# Your code here\n",
    "# Load the image, find its shape and display it!"
   ],
   "outputs": [],
   "metadata": {}
  },
  {
   "cell_type": "markdown",
   "source": [
    "Create a 1x3 visualization of the three colour channels in the image.\n",
    "\n",
    "<details>\n",
    "    <summary style=\"cursor: pointer;\">Click for a hint.</summary>\n",
    "    In this case we have a three-dimensional matrix. This is really a case of \"cropping\" the image in each colour channel, and displaying each channel using `imshow`.\n",
    "</details>"
   ],
   "metadata": {}
  },
  {
   "cell_type": "code",
   "execution_count": null,
   "source": [
    "fig, ax = plt.subplots(1, 3, figsize=(12,4))\n",
    "\n",
    "# Display each channel in one axis"
   ],
   "outputs": [],
   "metadata": {}
  },
  {
   "cell_type": "markdown",
   "source": [
    "Now, crop the image so to only visualize channel 2 of a single cell of your choice"
   ],
   "metadata": {}
  },
  {
   "cell_type": "code",
   "execution_count": null,
   "source": [
    "langat_cropped = ___\n",
    "\n",
    "plt.imshow(langat_cropped, cmap = \"gray\")\n",
    "plt.show()"
   ],
   "outputs": [],
   "metadata": {}
  },
  {
   "cell_type": "markdown",
   "source": [
    "### Exercise 3 - 3D images\n",
    "\n",
    "The pituitary_stack.tif image contains a 3D confocal stack of a pituitary slice (Nicola Romanò - [CC-BY-SA 3.0](https://creativecommons.org/licenses/by-sa/3.0/))\n",
    "\n",
    "Load the image, look at its shape and visualize every 3rd slice\n"
   ],
   "metadata": {}
  },
  {
   "cell_type": "code",
   "execution_count": null,
   "source": [
    "pit = _____ # Read image\n",
    "\n",
    "print(pit.shape)\n",
    "\n",
    "# Display every 3rd slice in a panel"
   ],
   "outputs": [],
   "metadata": {}
  },
  {
   "cell_type": "markdown",
   "source": [
    "A different way of showing 3D images is that of creating a new image, where each pixels has the maximum intensity of all pixels at that position in the stack.\n",
    "\n",
    "This is called a **maximum intensity projection** or MIP.\n",
    "\n",
    "The `max` function in Numpy makes it supereasy to create MIPs. You can use the `axis` parameter to project along different axes.\n",
    "\n",
    "Try it below and compare to the images above."
   ],
   "metadata": {}
  },
  {
   "cell_type": "code",
   "execution_count": null,
   "source": [
    "plt.imshow(np.max(pit, axis=0),cmap=\"gray\")\n",
    "plt.show()"
   ],
   "outputs": [],
   "metadata": {}
  },
  {
   "cell_type": "markdown",
   "source": [
    "Now create a MIP for the XZ and YZ planes.\n",
    "Because of the large number of cells, these projections will probably be difficult to understand. Performing them on crops of the original image might help."
   ],
   "metadata": {}
  },
  {
   "cell_type": "code",
   "execution_count": null,
   "source": [
    "fig, ax = plt.subplots(2, 1, figsize = (12,6))\n",
    "\n",
    "# Create MIPs in XZ and YZ\n",
    "ax[0].imshow(_____, cmap=\"gray\")\n",
    "ax[1].imshow(_____, cmap=\"gray\")\n",
    "plt.show()"
   ],
   "outputs": [],
   "metadata": {}
  },
  {
   "cell_type": "markdown",
   "source": [
    "There are more advanced ways of displaying 3D images. One that you might want to explore is Napari. This is a fast, interactive, multi-dimensional image viewer for Python. It’s designed for browsing, annotating, and analyzing large multi-dimensional images.\n",
    "\n",
    "[The Napari website](https://napari.org/tutorials/) has lots of interesting tutorials, which you can explore in your own time, if you are interested in 3D visualizations."
   ],
   "metadata": {}
  },
  {
   "cell_type": "markdown",
   "source": [
    "## Affine transformations\n",
    "\n",
    "In lecture 2, we talked about affine transformations and how they can be used to manipulate images.\n",
    "\n",
    "Given the nucleoli image from above, try to scale it using the `rescale` function from `skimage` to:\n",
    "\n",
    "1. 1/10 of its resolution\n",
    "2. twice in x and three times in y\n",
    "\n",
    "Display the results."
   ],
   "metadata": {}
  },
  {
   "cell_type": "code",
   "execution_count": null,
   "source": [
    "from skimage.transform import rescale\n",
    "\n",
    "plt.imshow(nucleoli, \"gray\")\n",
    "plt.show()\n",
    "\n",
    "# Rescale to 1/10 and display\n",
    "________\n",
    "plt.show()\n",
    "# Rescale 2 times in x and 3 in y, then display\n",
    "________\n",
    "plt.show()\n"
   ],
   "outputs": [],
   "metadata": {}
  },
  {
   "cell_type": "markdown",
   "source": [
    "Visually compare the results of different orders of interpolation when downscaling to twice the resolution (it might be difficult to see an appreciable difference, unless you \"zoom in\" on a detail of the image, by displaying a crop)."
   ],
   "metadata": {}
  },
  {
   "cell_type": "code",
   "execution_count": null,
   "source": [
    "fig, ax = plt.subplots(2, 3, figsize=(12,6))\n",
    "\n",
    "for i, a in enumerate(ax.ravel()):\n",
    "    nucleoli_big = # rescale image here, with interpolation order i\n",
    "    a.imshow(nucleoli_big[300:350, 750:800], cmap=\"gray\")\n",
    "    a.set_title(f\"Order = {i}\")\n",
    "\n",
    "plt.show()"
   ],
   "outputs": [],
   "metadata": {}
  },
  {
   "cell_type": "markdown",
   "source": [
    "Reload your stripes.png picture and use the skimage `rotate` function to rotate it by 30, 45 or 90 degrees."
   ],
   "metadata": {}
  },
  {
   "cell_type": "code",
   "execution_count": null,
   "source": [
    "from skimage.transform import rotate\n",
    "\n",
    "# Display the stripes image rotated 0, 30, 45, or 90 degrees"
   ],
   "outputs": [],
   "metadata": {}
  },
  {
   "cell_type": "markdown",
   "source": [
    "We learned in the lecture that the `rotate` function performs matrix multiplication to rotate the points. \n",
    "\n",
    "**Can you think of another way of rotating the image by 90 degrees?**"
   ],
   "metadata": {}
  },
  {
   "cell_type": "code",
   "execution_count": null,
   "source": [
    "# Your code here"
   ],
   "outputs": [],
   "metadata": {}
  },
  {
   "cell_type": "markdown",
   "source": [
    "Similarly to what you have done above, see what the effect of different types of interpolation is on the results of a 30 degrees rotation using `rotate` (set the `order` parameter as you did above).\n",
    "\n",
    "You can crop the image to see the effect more in detail"
   ],
   "metadata": {}
  },
  {
   "cell_type": "code",
   "execution_count": null,
   "source": [
    "# Display a 30 degrees rotation with different orders of interpolation"
   ],
   "outputs": [],
   "metadata": {}
  },
  {
   "cell_type": "markdown",
   "source": [
    "Finally, let's try building our own transformation matrix.\n",
    "\n",
    "- Use `SimilarityTransform` to create a matrix that rotates an image by 20 degrees and translates it 10 pixels to the left and 10 to the bottom\n",
    "- Note that `SimilarityTransform` expects the angle to be in radians. You can convert degrees into radians using `np.deg2rad(angle)`\n",
    "- Use what you learnt in the lectures to predict what the value of such matrix would be. Check it by printing the matrix.\n",
    "- Apply the matrix to the stripes image using the `warp` function.\n"
   ],
   "metadata": {}
  },
  {
   "cell_type": "code",
   "execution_count": null,
   "source": [
    "from skimage.transform import SimilarityTransform, warp\n",
    "\n",
    "matrix = _____\n",
    "\n",
    "print(matrix)\n",
    "\n",
    "stripes_transformed = ______\n",
    "plt.imshow(stripes_transformed, cmap=\"gray\")\n",
    "plt.show()"
   ],
   "outputs": [],
   "metadata": {}
  },
  {
   "cell_type": "markdown",
   "source": [
    "### You made it to the end! Well done!"
   ],
   "metadata": {}
  }
 ]
}