{
 "cells": [
  {
   "cell_type": "code",
   "execution_count": 1,
   "metadata": {},
   "outputs": [],
   "source": [
    "import tensorflow.keras as keras\n",
    "import matplotlib.pyplot as plt\n",
    "import numpy as np"
   ]
  },
  {
   "cell_type": "code",
   "execution_count": 10,
   "metadata": {},
   "outputs": [],
   "source": [
    "# Load and prepare the data\n",
    "(x_train, y_train), (x_test, y_test) = keras.datasets.mnist.load_data()\n",
    "\n",
    "x_train = x_train / 255.0\n",
    "x_test = x_test / 255.0\n",
    "x_train = x_train.reshape(x_train.shape[0], x_train.shape[1], x_train.shape[2], 1)\n",
    "x_test = x_test.reshape(x_test.shape[0], x_test.shape[1], x_test.shape[2], 1)\n",
    "\n",
    "y_train = keras.utils.to_categorical(y_train, num_classes=10)\n",
    "y_test = keras.utils.to_categorical(y_test, num_classes=10)"
   ]
  },
  {
   "cell_type": "code",
   "execution_count": 14,
   "metadata": {},
   "outputs": [
    {
     "name": "stdout",
     "output_type": "stream",
     "text": [
      "Model: \"sequential_2\"\n",
      "_________________________________________________________________\n",
      " Layer (type)                Output Shape              Param #   \n",
      "=================================================================\n",
      " conv2d_4 (Conv2D)           (None, 24, 24, 6)         156       \n",
      "                                                                 \n",
      " max_pooling2d_4 (MaxPooling  (None, 12, 12, 6)        0         \n",
      " 2D)                                                             \n",
      "                                                                 \n",
      " conv2d_5 (Conv2D)           (None, 8, 8, 16)          2416      \n",
      "                                                                 \n",
      " max_pooling2d_5 (MaxPooling  (None, 4, 4, 16)         0         \n",
      " 2D)                                                             \n",
      "                                                                 \n",
      " flatten_2 (Flatten)         (None, 256)               0         \n",
      "                                                                 \n",
      " dense_6 (Dense)             (None, 120)               30840     \n",
      "                                                                 \n",
      " dense_7 (Dense)             (None, 84)                10164     \n",
      "                                                                 \n",
      " dense_8 (Dense)             (None, 10)                850       \n",
      "                                                                 \n",
      "=================================================================\n",
      "Total params: 44,426\n",
      "Trainable params: 44,426\n",
      "Non-trainable params: 0\n",
      "_________________________________________________________________\n",
      "None\n"
     ]
    }
   ],
   "source": [
    "# Create the model\n",
    "\n",
    "model = keras.Sequential()\n",
    "model.add(keras.layers.Input(shape=(28, 28, 1)))\n",
    "\n",
    "model.add(keras.layers.Conv2D(filters = 6, kernel_size=5, activation='relu'))\n",
    "model.add(keras.layers.MaxPool2D(pool_size=(2,2), padding='valid'))\n",
    "\n",
    "model.add(keras.layers.Conv2D(filters = 16, kernel_size=5, activation='relu'))\n",
    "model.add(keras.layers.MaxPool2D(pool_size=(2,2), padding='valid'))\n",
    "\n",
    "model.add(keras.layers.Flatten())\n",
    "\n",
    "model.add(keras.layers.Dense(units=120, activation='relu'))\n",
    "model.add(keras.layers.Dense(units=84, activation='relu'))\n",
    "model.add(keras.layers.Dense(units=10, activation='softmax'))\n",
    "\n",
    "model.compile(optimizer='adam', loss='categorical_crossentropy', metrics=['accuracy'])\n",
    "\n",
    "print(model.summary())"
   ]
  },
  {
   "cell_type": "code",
   "execution_count": 15,
   "metadata": {},
   "outputs": [
    {
     "name": "stdout",
     "output_type": "stream",
     "text": [
      "Epoch 1/20\n",
      "48/48 [==============================] - 15s 302ms/step - loss: 1.1976 - accuracy: 0.6757 - val_loss: 0.4125 - val_accuracy: 0.8723\n",
      "Epoch 2/20\n",
      "48/48 [==============================] - 14s 294ms/step - loss: 0.3410 - accuracy: 0.8963 - val_loss: 0.2383 - val_accuracy: 0.9291\n",
      "Epoch 3/20\n",
      "48/48 [==============================] - 15s 308ms/step - loss: 0.2220 - accuracy: 0.9339 - val_loss: 0.1682 - val_accuracy: 0.9489\n",
      "Epoch 4/20\n",
      "48/48 [==============================] - 15s 307ms/step - loss: 0.1581 - accuracy: 0.9523 - val_loss: 0.1301 - val_accuracy: 0.9622\n",
      "Epoch 5/20\n",
      "48/48 [==============================] - 14s 296ms/step - loss: 0.1274 - accuracy: 0.9605 - val_loss: 0.1071 - val_accuracy: 0.9693\n",
      "Epoch 6/20\n",
      "48/48 [==============================] - 12s 253ms/step - loss: 0.1048 - accuracy: 0.9671 - val_loss: 0.1002 - val_accuracy: 0.9702\n",
      "Epoch 7/20\n",
      "48/48 [==============================] - 10s 215ms/step - loss: 0.0888 - accuracy: 0.9731 - val_loss: 0.0863 - val_accuracy: 0.9751\n",
      "Epoch 8/20\n",
      "48/48 [==============================] - 10s 218ms/step - loss: 0.0786 - accuracy: 0.9762 - val_loss: 0.0802 - val_accuracy: 0.9765\n",
      "Epoch 9/20\n",
      "48/48 [==============================] - 11s 222ms/step - loss: 0.0712 - accuracy: 0.9785 - val_loss: 0.0745 - val_accuracy: 0.9772\n",
      "Epoch 10/20\n",
      "48/48 [==============================] - 10s 215ms/step - loss: 0.0645 - accuracy: 0.9812 - val_loss: 0.0717 - val_accuracy: 0.9793\n",
      "Epoch 11/20\n",
      "48/48 [==============================] - 11s 227ms/step - loss: 0.0613 - accuracy: 0.9816 - val_loss: 0.0718 - val_accuracy: 0.9793\n",
      "Epoch 12/20\n",
      "48/48 [==============================] - 11s 223ms/step - loss: 0.0558 - accuracy: 0.9832 - val_loss: 0.0681 - val_accuracy: 0.9791\n",
      "Epoch 13/20\n",
      "48/48 [==============================] - 11s 220ms/step - loss: 0.0520 - accuracy: 0.9844 - val_loss: 0.0694 - val_accuracy: 0.9782\n",
      "Epoch 14/20\n",
      "48/48 [==============================] - 11s 221ms/step - loss: 0.0491 - accuracy: 0.9848 - val_loss: 0.0607 - val_accuracy: 0.9815\n",
      "Epoch 15/20\n",
      "48/48 [==============================] - 11s 228ms/step - loss: 0.0444 - accuracy: 0.9868 - val_loss: 0.0579 - val_accuracy: 0.9828\n",
      "Epoch 16/20\n",
      "48/48 [==============================] - 10s 218ms/step - loss: 0.0415 - accuracy: 0.9877 - val_loss: 0.0563 - val_accuracy: 0.9824\n",
      "Epoch 17/20\n",
      "48/48 [==============================] - 11s 223ms/step - loss: 0.0409 - accuracy: 0.9871 - val_loss: 0.0569 - val_accuracy: 0.9840\n",
      "Epoch 18/20\n",
      "48/48 [==============================] - 11s 221ms/step - loss: 0.0377 - accuracy: 0.9887 - val_loss: 0.0635 - val_accuracy: 0.9806\n",
      "Epoch 19/20\n",
      "48/48 [==============================] - 11s 224ms/step - loss: 0.0386 - accuracy: 0.9882 - val_loss: 0.0567 - val_accuracy: 0.9825\n",
      "Epoch 20/20\n",
      "48/48 [==============================] - 11s 238ms/step - loss: 0.0345 - accuracy: 0.9894 - val_loss: 0.0547 - val_accuracy: 0.9843\n"
     ]
    }
   ],
   "source": [
    "history = model.fit(x_train, y_train, batch_size=1000, epochs=20, validation_split=0.2)"
   ]
  },
  {
   "cell_type": "code",
   "execution_count": 31,
   "metadata": {},
   "outputs": [
    {
     "data": {
      "text/plain": [
       "[]"
      ]
     },
     "execution_count": 31,
     "metadata": {},
     "output_type": "execute_result"
    },
    {
     "data": {
      "image/png": "[encoded data removed]",
      "text/plain": [
       "<Figure size 720x360 with 2 Axes>"
      ]
     },
     "metadata": {
      "needs_background": "light"
     },
     "output_type": "display_data"
    }
   ],
   "source": [
    "fig, ax = plt.subplots(1, 2, figsize=(10, 5))\n",
    "\n",
    "ax[0].plot(history.history['loss'], color='blue', label='Training loss')\n",
    "ax[0].plot(history.history['val_loss'], color='orange', label='Validation loss')\n",
    "ax[0].legend()\n",
    "\n",
    "ax[1].plot(history.history['accuracy'], color='blue', label='Training accuracy')\n",
    "ax[1].plot(history.history['val_accuracy'], color='orange', label='Validation accuracy')\n",
    "ax[1].legend()\n",
    "\n",
    "plt.plot()"
   ]
  },
  {
   "cell_type": "code",
   "execution_count": 35,
   "metadata": {},
   "outputs": [
    {
     "name": "stdout",
     "output_type": "stream",
     "text": [
      "[[ 975    0    0    0    0    0    0    4    1    0]\n",
      " [   0 1130    1    0    0    0    1    1    2    0]\n",
      " [   2    0 1020    0    1    0    0    6    3    0]\n",
      " [   1    1    3  992    0    3    0    7    3    0]\n",
      " [   0    0    1    0  978    0    0    0    1    2]\n",
      " [   2    0    1    6    0  877    3    1    1    1]\n",
      " [   7    2    1    1    2    3  940    0    2    0]\n",
      " [   1    2    3    1    1    0    0 1019    1    0]\n",
      " [   5    0    3    0    1    1    0    5  959    0]\n",
      " [   2    2    0    3   19    1    0   11    5  966]]\n"
     ]
    }
   ],
   "source": [
    "from sklearn.metrics import confusion_matrix\n",
    "\n",
    "predictions = model.predict(x_test)\n",
    "predictions = np.argmax(predictions, axis = 1)\n",
    "\n",
    "print(confusion_matrix((y_test, axis=1), predictions))"
   ]
  }
 ],
 "metadata": {
  "interpreter": {
   "hash": "af6b460c36dc28ebfac4d0bba8d4a91774bd4ef791c3ae938522999fae061eb7"
  },
  "kernelspec": {
   "display_name": "Python 3.7.12 64-bit ('bia4_env': venv)",
   "language": "python",
   "name": "python3"
  },
  "language_info": {
   "codemirror_mode": {
    "name": "ipython",
    "version": 3
   },
   "file_extension": ".py",
   "mimetype": "text/x-python",
   "name": "python",
   "nbconvert_exporter": "python",
   "pygments_lexer": "ipython3",
   "version": "3.7.12"
  },
  "orig_nbformat": 4
 },
 "nbformat": 4,
 "nbformat_minor": 2
}
