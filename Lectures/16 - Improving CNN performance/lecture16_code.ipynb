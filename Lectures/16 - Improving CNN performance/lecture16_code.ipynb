{
 "cells": [
  {
   "cell_type": "code",
   "execution_count": 17,
   "metadata": {},
   "outputs": [],
   "source": [
    "import tensorflow.keras as keras\n",
    "from tensorflow.keras.preprocessing.image import ImageDataGenerator\n",
    "import matplotlib.pyplot as plt"
   ]
  },
  {
   "cell_type": "code",
   "execution_count": 36,
   "metadata": {},
   "outputs": [
    {
     "name": "stdout",
     "output_type": "stream",
     "text": [
      "(128, 28, 28, 1)\n"
     ]
    }
   ],
   "source": [
    "(xtrain, ytrain), (xtest, ytest) = keras.datasets.mnist.load_data()\n",
    "\n",
    "# As an example, we allow horizontal and vertical translation, zooming and rotation of the data\n",
    "generator = ImageDataGenerator(height_shift_range=[-50,50],\n",
    "                                width_shift_range=[-50,50],\n",
    "                                zoom_range=[0.5,1.5],\n",
    "                                rotation_range=90)\n",
    "\n",
    "xtrain = xtrain.reshape(xtrain.shape[0],xtrain.shape[1],xtrain.shape[2],1)\n",
    "iterator = generator.flow(xtrain, ytrain, batch_size=128)\n",
    "print(iterator.next()[0].shape)    "
   ]
  }
 ],
 "metadata": {
  "interpreter": {
   "hash": "af6b460c36dc28ebfac4d0bba8d4a91774bd4ef791c3ae938522999fae061eb7"
  },
  "kernelspec": {
   "display_name": "Python 3.7.12 64-bit ('bia4_env': venv)",
   "language": "python",
   "name": "python3"
  },
  "language_info": {
   "codemirror_mode": {
    "name": "ipython",
    "version": 3
   },
   "file_extension": ".py",
   "mimetype": "text/x-python",
   "name": "python",
   "nbconvert_exporter": "python",
   "pygments_lexer": "ipython3",
   "version": "3.7.12"
  },
  "orig_nbformat": 4
 },
 "nbformat": 4,
 "nbformat_minor": 2
}
